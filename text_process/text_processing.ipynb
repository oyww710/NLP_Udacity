{
 "cells": [
  {
   "cell_type": "markdown",
   "metadata": {},
   "source": [
    "# Text Processing\n",
    "\n",
    "## Capturing Text Data\n",
    "\n",
    "### Plain Text"
   ]
  },
  {
   "cell_type": "code",
   "execution_count": 1,
   "metadata": {},
   "outputs": [
    {
     "name": "stdout",
     "output_type": "stream",
     "text": [
      "Hieroglyphic writing dates from c. 3000 BC, and is composed of hundreds of symbols. A hieroglyph can represent a word, a sound, or a silent determinative; and the same symbol can serve different purposes in different contexts. Hieroglyphs were a formal script, used on stone monuments and in tombs, that could be as detailed as individual works of art.\n",
      "\n"
     ]
    }
   ],
   "source": [
    "import os\n",
    "\n",
    "# Read in a plain text file\n",
    "with open(os.path.join(\"data\", \"hieroglyph.txt\"), \"r\") as f:\n",
    "    text = f.read()\n",
    "    print(text)"
   ]
  },
  {
   "cell_type": "markdown",
   "metadata": {},
   "source": [
    "### Tabular Data"
   ]
  },
  {
   "cell_type": "code",
   "execution_count": 2,
   "metadata": {
    "scrolled": true
   },
   "outputs": [
    {
     "data": {
      "text/html": [
       "<div>\n",
       "<style scoped>\n",
       "    .dataframe tbody tr th:only-of-type {\n",
       "        vertical-align: middle;\n",
       "    }\n",
       "\n",
       "    .dataframe tbody tr th {\n",
       "        vertical-align: top;\n",
       "    }\n",
       "\n",
       "    .dataframe thead th {\n",
       "        text-align: right;\n",
       "    }\n",
       "</style>\n",
       "<table border=\"1\" class=\"dataframe\">\n",
       "  <thead>\n",
       "    <tr style=\"text-align: right;\">\n",
       "      <th></th>\n",
       "      <th>publisher</th>\n",
       "      <th>title</th>\n",
       "    </tr>\n",
       "  </thead>\n",
       "  <tbody>\n",
       "    <tr>\n",
       "      <th>0</th>\n",
       "      <td>Livemint</td>\n",
       "      <td>fed's charles plosser sees high bar for change...</td>\n",
       "    </tr>\n",
       "    <tr>\n",
       "      <th>1</th>\n",
       "      <td>IFA Magazine</td>\n",
       "      <td>us open: stocks fall after fed official hints ...</td>\n",
       "    </tr>\n",
       "    <tr>\n",
       "      <th>2</th>\n",
       "      <td>IFA Magazine</td>\n",
       "      <td>fed risks falling 'behind the curve', charles ...</td>\n",
       "    </tr>\n",
       "    <tr>\n",
       "      <th>3</th>\n",
       "      <td>Moneynews</td>\n",
       "      <td>fed's plosser: nasty weather has curbed job gr...</td>\n",
       "    </tr>\n",
       "    <tr>\n",
       "      <th>4</th>\n",
       "      <td>NASDAQ</td>\n",
       "      <td>plosser: fed may have to accelerate tapering pace</td>\n",
       "    </tr>\n",
       "  </tbody>\n",
       "</table>\n",
       "</div>"
      ],
      "text/plain": [
       "      publisher                                              title\n",
       "0      Livemint  fed's charles plosser sees high bar for change...\n",
       "1  IFA Magazine  us open: stocks fall after fed official hints ...\n",
       "2  IFA Magazine  fed risks falling 'behind the curve', charles ...\n",
       "3     Moneynews  fed's plosser: nasty weather has curbed job gr...\n",
       "4        NASDAQ  plosser: fed may have to accelerate tapering pace"
      ]
     },
     "execution_count": 2,
     "metadata": {},
     "output_type": "execute_result"
    }
   ],
   "source": [
    "import pandas as pd\n",
    "\n",
    "# Extract text column from a dataframe\n",
    "df = pd.read_csv(os.path.join(\"data\", \"news.csv\"))\n",
    "df.head()[['publisher', 'title']]\n",
    "\n",
    "# Convert text column to lowercase\n",
    "df['title'] = df['title'].str.lower()\n",
    "df.head()[['publisher', 'title']]"
   ]
  },
  {
   "cell_type": "markdown",
   "metadata": {},
   "source": [
    "### Online Resource"
   ]
  },
  {
   "cell_type": "code",
   "execution_count": 3,
   "metadata": {
    "scrolled": false
   },
   "outputs": [
    {
     "name": "stdout",
     "output_type": "stream",
     "text": [
      "{\n",
      "    \"success\": {\n",
      "        \"total\": 1\n",
      "    },\n",
      "    \"contents\": {\n",
      "        \"quotes\": [\n",
      "            {\n",
      "                \"quote\": \"You must be the change you want to see in the world..\",\n",
      "                \"length\": \"55\",\n",
      "                \"author\": \"M.K. Gandhi\",\n",
      "                \"tags\": [\n",
      "                    \"change\",\n",
      "                    \"inspire\",\n",
      "                    \"leadership\"\n",
      "                ],\n",
      "                \"category\": \"inspire\",\n",
      "                \"language\": \"en\",\n",
      "                \"date\": \"2021-06-13\",\n",
      "                \"permalink\": \"https://theysaidso.com/quote/mk-gandhi-you-must-be-the-change-you-want-to-see-in-the-world\",\n",
      "                \"id\": \"dj0Sq7ipgSdBr1tMOO_WSAeF\",\n",
      "                \"background\": \"https://theysaidso.com/img/qod/qod-inspire.jpg\",\n",
      "                \"title\": \"Inspiring Quote of the day\"\n",
      "            }\n",
      "        ]\n",
      "    },\n",
      "    \"baseurl\": \"https://theysaidso.com\",\n",
      "    \"copyright\": {\n",
      "        \"year\": 2023,\n",
      "        \"url\": \"https://theysaidso.com\"\n",
      "    }\n",
      "}\n",
      "You must be the change you want to see in the world.. \n",
      "-- M.K. Gandhi\n"
     ]
    }
   ],
   "source": [
    "import requests\n",
    "import json\n",
    "\n",
    "# Fetch data from a REST API\n",
    "r = requests.get(\n",
    "    \"https://quotes.rest/qod.json\")\n",
    "res = r.json()\n",
    "print(json.dumps(res, indent=4))\n",
    "\n",
    "# Extract relevant object and field\n",
    "q = res[\"contents\"][\"quotes\"][0]\n",
    "print(q[\"quote\"], \"\\n--\", q[\"author\"])"
   ]
  },
  {
   "cell_type": "markdown",
   "metadata": {},
   "source": [
    "## Cleaning"
   ]
  },
  {
   "cell_type": "code",
   "execution_count": 4,
   "metadata": {
    "scrolled": false
   },
   "outputs": [
    {
     "name": "stdout",
     "output_type": "stream",
     "text": [
      "<html lang=\"en\" op=\"news\"><head><meta name=\"referrer\" content=\"origin\"><meta name=\"viewport\" content=\"width=device-width, initial-scale=1.0\"><link rel=\"stylesheet\" type=\"text/css\" href=\"news.css?k547ipgy5Sqxq1LLKYNi\">\n",
      "        <link rel=\"shortcut icon\" href=\"favicon.ico\">\n",
      "          <link rel=\"alternate\" type=\"application/rss+xml\" title=\"RSS\" href=\"rss\">\n",
      "        <title>Hacker News</title></head><body><center><table id=\"hnmain\" border=\"0\" cellpadding=\"0\" cellspacing=\"0\" width=\"85%\" bgcolor=\"#f6f6ef\">\n",
      "        <tr><td bgcolor=\"#ff6600\"><table border=\"0\" cellpadding=\"0\" cellspacing=\"0\" width=\"100%\" style=\"padding:2px\"><tr><td style=\"width:18px;padding-right:4px\"><a href=\"https://news.ycombinator.com\"><img src=\"y18.gif\" width=\"18\" height=\"18\" style=\"border:1px white solid;\"></a></td>\n",
      "                  <td style=\"line-height:12pt; height:10px;\"><span class=\"pagetop\"><b class=\"hnname\"><a href=\"news\">Hacker News</a></b>\n",
      "              <a href=\"newest\">new</a> | <a href=\"front\">past</a> | <a href=\"newcomments\">comments</a> | <a href=\"ask\">ask</a> | <a href=\"show\">show</a> | <a href=\"jobs\">jobs</a> | <a href=\"submit\">submit</a>            </span></td><td style=\"text-align:right;padding-right:4px;\"><span class=\"pagetop\">\n",
      "                              <a href=\"login?goto=news\">login</a>\n",
      "                          </span></td>\n",
      "              </tr></table></td></tr>\n",
      "<tr id=\"pagespace\" title=\"\" style=\"height:10px\"></tr><tr><td><table border=\"0\" cellpadding=\"0\" cellspacing=\"0\" class=\"itemlist\">\n",
      "              <tr class='athing' id='27480281'>\n",
      "      <td align=\"right\" valign=\"top\" class=\"title\"><span class=\"rank\">1.</span></td>      <td valign=\"top\" class=\"votelinks\"><center><a id='up_27480281' href='vote?id=27480281&amp;how=up&amp;goto=news'><div class='votearrow' title='upvote'></div></a></center></td><td class=\"title\"><a href=\"https://tailscale.com/blog/2021-06-taildrop-was-easy/\" class=\"storylink\">Taildrop Was Kind of Easy</a><span class=\"sitebit comhead\"> (<a href=\"from?site=tailscale.com\"><span class=\"sitestr\">tailscale.com</span></a>)</span></td></tr><tr><td colspan=\"2\"></td><td class=\"subtext\">\n",
      "        <span class=\"score\" id=\"score_27480281\">144 points</span> by <a href=\"user?id=tptacek\" class=\"hnuser\">tptacek</a> <span class=\"age\"><a href=\"item?id=27480281\">5 hours ago</a></span> <span id=\"unv_27480281\"></span> | <a href=\"hide?id=27480281&amp;goto=news\">hide</a> | <a href=\"item?id=27480281\">47&nbsp;comments</a>              </td></tr>\n",
      "      <tr class=\"spacer\" style=\"height:5px\"></tr>\n",
      "                <tr class='athing' id='27489807'>\n",
      "      <td align=\"right\" valign=\"top\" class=\"title\"><span class=\"rank\">2.</span></td>      <td valign=\"top\" class=\"votelinks\"><center><a id='up_27489807' href='vote?id=27489807&amp;how=up&amp;goto=news'><div class='votearrow' title='upvote'></div></a></center></td><td class=\"title\"><a href=\"https://www.bbc.com/news/world-asia-57268691\" class=\"storylink\">Pakistan: A man trying to improve women's underwear</a><span class=\"sitebit comhead\"> (<a href=\"from?site=bbc.com\"><span class=\"sitestr\">bbc.com</span></a>)</span></td></tr><tr><td colspan=\"2\"></td><td class=\"subtext\">\n",
      "        <span class=\"score\" id=\"score_27489807\">22 points</span> by <a href=\"user?id=arkj\" class=\"hnuser\">arkj</a> <span class=\"age\"><a href=\"item?id=27489807\">1 hour ago</a></span> <span id=\"unv_27489807\"></span> | <a href=\"hide?id=27489807&amp;goto=news\">hide</a> | <a href=\"item?id=27489807\">10&nbsp;comments</a>              </td></tr>\n",
      "      <tr class=\"spacer\" style=\"height:5px\"></tr>\n",
      "                <tr class='athing' id='27489187'>\n",
      "      <td align=\"right\" valign=\"top\" class=\"title\"><span class=\"rank\">3.</span></td>      <td valign=\"top\" class=\"votelinks\"><center><a id='up_27489187' href='vote?id=27489187&amp;how=up&amp;goto=news'><div class='votearrow' title='upvote'></div></a></center></td><td class=\"title\"><a href=\"https://www.tokyoweekender.com/2021/06/chiune-sugihara-japanese-schindler/\" class=\"storylink\">The Schindler of Japan, Chihune Sugihara</a><span class=\"sitebit comhead\"> (<a href=\"from?site=tokyoweekender.com\"><span class=\"sitestr\">tokyoweekender.com</span></a>)</span></td></tr><tr><td colspan=\"2\"></td><td class=\"subtext\">\n",
      "        <span class=\"score\" id=\"score_27489187\">106 points</span> by <a href=\"user?id=se4u\" class=\"hnuser\">se4u</a> <span class=\"age\"><a href=\"item?id=27489187\">4 hours ago</a></span> <span id=\"unv_27489187\"></span> | <a href=\"hide?id=27489187&amp;goto=news\">hide</a> | <a href=\"item?id=27489187\">14&nbsp;comments</a>              </td></tr>\n",
      "      <tr class=\"spacer\" style=\"height:5px\"></tr>\n",
      "                <tr class='athing' id='27482846'>\n",
      "      <td align=\"right\" valign=\"top\" class=\"title\"><span class=\"rank\">4.</span></td>      <td valign=\"top\" class=\"votelinks\"><center><a id='up_27482846' href='vote?id=27482846&amp;how=up&amp;goto=news'><div class='votearrow' title='upvote'></div></a></center></td><td class=\"title\"><a href=\"https://edition.cnn.com/travel/article/hilton-hotel-on-moon-scn-cmd/index.html\" class=\"storylink\">Hilton's bizarre 1967 plan for a space hotel</a><span class=\"sitebit comhead\"> (<a href=\"from?site=cnn.com\"><span class=\"sitestr\">cnn.com</span></a>)</span></td></tr><tr><td colspan=\"2\"></td><td class=\"subtext\">\n",
      "        <span class=\"score\" id=\"score_27482846\">36 points</span> by <a href=\"user?id=ZeljkoS\" class=\"hnuser\">ZeljkoS</a> <span class=\"age\"><a href=\"item?id=27482846\">3 hours ago</a></span> <span id=\"unv_27482846\"></span> | <a href=\"hide?id=27482846&amp;goto=news\">hide</a> | <a href=\"item?id=27482846\">17&nbsp;comments</a>              </td></tr>\n",
      "      <tr class=\"spacer\" style=\"height:5px\"></tr>\n",
      "                <tr class='athing' id='27489927'>\n",
      "      <td align=\"right\" valign=\"top\" class=\"title\"><span class=\"rank\">5.</span></td>      <td valign=\"top\" class=\"votelinks\"><center><a id='up_27489927' href='vote?id=27489927&amp;how=up&amp;goto=news'><div class='votearrow' title='upvote'></div></a></center></td><td class=\"title\"><a href=\"https://ucsdnews.ucsd.edu/pressrelease/how-your-phone-can-predict-depression-and-lead-to-personalized-treatment\" class=\"storylink\">How Your Phone Can Predict Depression and Lead to Personalized Treatment</a><span class=\"sitebit comhead\"> (<a href=\"from?site=ucsd.edu\"><span class=\"sitestr\">ucsd.edu</span></a>)</span></td></tr><tr><td colspan=\"2\"></td><td class=\"subtext\">\n",
      "        <span class=\"score\" id=\"score_27489927\">7 points</span> by <a href=\"user?id=rustoo\" class=\"hnuser\">rustoo</a> <span class=\"age\"><a href=\"item?id=27489927\">1 hour ago</a></span> <span id=\"unv_27489927\"></span> | <a href=\"hide?id=27489927&amp;goto=news\">hide</a> | <a href=\"item?id=27489927\">2&nbsp;comments</a>              </td></tr>\n",
      "      <tr class=\"spacer\" style=\"height:5px\"></tr>\n",
      "                <tr class='athing' id='27487111'>\n",
      "      <td align=\"right\" valign=\"top\" class=\"title\"><span class=\"rank\">6.</span></td>      <td valign=\"top\" class=\"votelinks\"><center><a id='up_27487111' href='vote?id=27487111&amp;how=up&amp;goto=news'><div class='votearrow' title='upvote'></div></a></center></td><td class=\"title\"><a href=\"https://play.elevatorsaga.com/\" class=\"storylink\">Elevator Saga – An elevator programming game</a><span class=\"sitebit comhead\"> (<a href=\"from?site=elevatorsaga.com\"><span class=\"sitestr\">elevatorsaga.com</span></a>)</span></td></tr><tr><td colspan=\"2\"></td><td class=\"subtext\">\n",
      "        <span class=\"score\" id=\"score_27487111\">199 points</span> by <a href=\"user?id=warpech\" class=\"hnuser\">warpech</a> <span class=\"age\"><a href=\"item?id=27487111\">10 hours ago</a></span> <span id=\"unv_27487111\"></span> | <a href=\"hide?id=27487111&amp;goto=news\">hide</a> | <a href=\"item?id=27487111\">72&nbsp;comments</a>              </td></tr>\n",
      "      <tr class=\"spacer\" style=\"height:5px\"></tr>\n",
      "                <tr class='athing' id='27468692'>\n",
      "      <td align=\"right\" valign=\"top\" class=\"title\"><span class=\"rank\">7.</span></td>      <td valign=\"top\" class=\"votelinks\"><center><a id='up_27468692' href='vote?id=27468692&amp;how=up&amp;goto=news'><div class='votearrow' title='upvote'></div></a></center></td><td class=\"title\"><a href=\"https://arrow.apache.org/blog/2019/02/05/python-string-memory-0.12/\" class=\"storylink\">Reducing Python String Memory Use in Apache Arrow 0.12</a><span class=\"sitebit comhead\"> (<a href=\"from?site=apache.org\"><span class=\"sitestr\">apache.org</span></a>)</span></td></tr><tr><td colspan=\"2\"></td><td class=\"subtext\">\n",
      "        <span class=\"score\" id=\"score_27468692\">12 points</span> by <a href=\"user?id=polm23\" class=\"hnuser\">polm23</a> <span class=\"age\"><a href=\"item?id=27468692\">2 hours ago</a></span> <span id=\"unv_27468692\"></span> | <a href=\"hide?id=27468692&amp;goto=news\">hide</a> | <a href=\"item?id=27468692\">discuss</a>              </td></tr>\n",
      "      <tr class=\"spacer\" style=\"height:5px\"></tr>\n",
      "                <tr class='athing' id='27488950'>\n",
      "      <td align=\"right\" valign=\"top\" class=\"title\"><span class=\"rank\">8.</span></td>      <td valign=\"top\" class=\"votelinks\"><center><a id='up_27488950' href='vote?id=27488950&amp;how=up&amp;goto=news'><div class='votearrow' title='upvote'></div></a></center></td><td class=\"title\"><a href=\"https://www.economist.com/international/2021/06/12/social-media-are-turbocharging-the-export-of-americas-political-culture\" class=\"storylink\">Social media are turbocharging the export of America’s political culture</a><span class=\"sitebit comhead\"> (<a href=\"from?site=economist.com\"><span class=\"sitestr\">economist.com</span></a>)</span></td></tr><tr><td colspan=\"2\"></td><td class=\"subtext\">\n",
      "        <span class=\"score\" id=\"score_27488950\">123 points</span> by <a href=\"user?id=systemvoltage\" class=\"hnuser\">systemvoltage</a> <span class=\"age\"><a href=\"item?id=27488950\">5 hours ago</a></span> <span id=\"unv_27488950\"></span> | <a href=\"hide?id=27488950&amp;goto=news\">hide</a> | <a href=\"item?id=27488950\">101&nbsp;comments</a>              </td></tr>\n",
      "      <tr class=\"spacer\" style=\"height:5px\"></tr>\n",
      "                <tr class='athing' id='27469193'>\n",
      "      <td align=\"right\" valign=\"top\" class=\"title\"><span class=\"rank\">9.</span></td>      <td valign=\"top\" class=\"votelinks\"><center><a id='up_27469193' href='vote?id=27469193&amp;how=up&amp;goto=news'><div class='votearrow' title='upvote'></div></a></center></td><td class=\"title\"><a href=\"https://www.bbc.com/news/world-us-canada-57399288\" class=\"storylink\">A US socialite who gave it all up to become a Carmelite nun</a><span class=\"sitebit comhead\"> (<a href=\"from?site=bbc.com\"><span class=\"sitestr\">bbc.com</span></a>)</span></td></tr><tr><td colspan=\"2\"></td><td class=\"subtext\">\n",
      "        <span class=\"score\" id=\"score_27469193\">93 points</span> by <a href=\"user?id=pepys\" class=\"hnuser\">pepys</a> <span class=\"age\"><a href=\"item?id=27469193\">6 hours ago</a></span> <span id=\"unv_27469193\"></span> | <a href=\"hide?id=27469193&amp;goto=news\">hide</a> | <a href=\"item?id=27469193\">60&nbsp;comments</a>              </td></tr>\n",
      "      <tr class=\"spacer\" style=\"height:5px\"></tr>\n",
      "                <tr class='athing' id='27489051'>\n",
      "      <td align=\"right\" valign=\"top\" class=\"title\"><span class=\"rank\">10.</span></td>      <td valign=\"top\" class=\"votelinks\"><center><a id='up_27489051' href='vote?id=27489051&amp;how=up&amp;goto=news'><div class='votearrow' title='upvote'></div></a></center></td><td class=\"title\"><a href=\"https://johncarlosbaez.wordpress.com/2011/12/02/babylon-and-the-square-root-of-2/\" class=\"storylink\">Babylon and the Square Root of 2</a><span class=\"sitebit comhead\"> (<a href=\"from?site=johncarlosbaez.wordpress.com\"><span class=\"sitestr\">johncarlosbaez.wordpress.com</span></a>)</span></td></tr><tr><td colspan=\"2\"></td><td class=\"subtext\">\n",
      "        <span class=\"score\" id=\"score_27489051\">39 points</span> by <a href=\"user?id=fortran77\" class=\"hnuser\">fortran77</a> <span class=\"age\"><a href=\"item?id=27489051\">5 hours ago</a></span> <span id=\"unv_27489051\"></span> | <a href=\"hide?id=27489051&amp;goto=news\">hide</a> | <a href=\"item?id=27489051\">3&nbsp;comments</a>              </td></tr>\n",
      "      <tr class=\"spacer\" style=\"height:5px\"></tr>\n",
      "                <tr class='athing' id='27488224'>\n",
      "      <td align=\"right\" valign=\"top\" class=\"title\"><span class=\"rank\">11.</span></td>      <td valign=\"top\" class=\"votelinks\"><center><a id='up_27488224' href='vote?id=27488224&amp;how=up&amp;goto=news'><div class='votearrow' title='upvote'></div></a></center></td><td class=\"title\"><a href=\"https://pastes.glitchwrks.com/L88HFhJs\" class=\"storylink\">Programmer's Resignation from 1985</a><span class=\"sitebit comhead\"> (<a href=\"from?site=glitchwrks.com\"><span class=\"sitestr\">glitchwrks.com</span></a>)</span></td></tr><tr><td colspan=\"2\"></td><td class=\"subtext\">\n",
      "        <span class=\"score\" id=\"score_27488224\">116 points</span> by <a href=\"user?id=systems_glitch\" class=\"hnuser\">systems_glitch</a> <span class=\"age\"><a href=\"item?id=27488224\">7 hours ago</a></span> <span id=\"unv_27488224\"></span> | <a href=\"hide?id=27488224&amp;goto=news\">hide</a> | <a href=\"item?id=27488224\">29&nbsp;comments</a>              </td></tr>\n",
      "      <tr class=\"spacer\" style=\"height:5px\"></tr>\n",
      "                <tr class='athing' id='27487465'>\n",
      "      <td align=\"right\" valign=\"top\" class=\"title\"><span class=\"rank\">12.</span></td>      <td valign=\"top\" class=\"votelinks\"><center><a id='up_27487465' href='vote?id=27487465&amp;how=up&amp;goto=news'><div class='votearrow' title='upvote'></div></a></center></td><td class=\"title\"><a href=\"https://blog.cr0.org/2021/06/a-few-thoughts-on-fuchsia-security.html\" class=\"storylink\">A few thoughts on Fuchsia security</a><span class=\"sitebit comhead\"> (<a href=\"from?site=cr0.org\"><span class=\"sitestr\">cr0.org</span></a>)</span></td></tr><tr><td colspan=\"2\"></td><td class=\"subtext\">\n",
      "        <span class=\"score\" id=\"score_27487465\">103 points</span> by <a href=\"user?id=steveklabnik\" class=\"hnuser\">steveklabnik</a> <span class=\"age\"><a href=\"item?id=27487465\">9 hours ago</a></span> <span id=\"unv_27487465\"></span> | <a href=\"hide?id=27487465&amp;goto=news\">hide</a> | <a href=\"item?id=27487465\">36&nbsp;comments</a>              </td></tr>\n",
      "      <tr class=\"spacer\" style=\"height:5px\"></tr>\n",
      "                <tr class='athing' id='27465635'>\n",
      "      <td align=\"right\" valign=\"top\" class=\"title\"><span class=\"rank\">13.</span></td>      <td valign=\"top\" class=\"votelinks\"><center><a id='up_27465635' href='vote?id=27465635&amp;how=up&amp;goto=news'><div class='votearrow' title='upvote'></div></a></center></td><td class=\"title\"><a href=\"https://www.newyorker.com/magazine/2021/06/14/how-nasty-was-nero-really\" class=\"storylink\">How Nasty Was Nero, Really?</a><span class=\"sitebit comhead\"> (<a href=\"from?site=newyorker.com\"><span class=\"sitestr\">newyorker.com</span></a>)</span></td></tr><tr><td colspan=\"2\"></td><td class=\"subtext\">\n",
      "        <span class=\"score\" id=\"score_27465635\">51 points</span> by <a href=\"user?id=diodorus\" class=\"hnuser\">diodorus</a> <span class=\"age\"><a href=\"item?id=27465635\">7 hours ago</a></span> <span id=\"unv_27465635\"></span> | <a href=\"hide?id=27465635&amp;goto=news\">hide</a> | <a href=\"item?id=27465635\">34&nbsp;comments</a>              </td></tr>\n",
      "      <tr class=\"spacer\" style=\"height:5px\"></tr>\n",
      "                <tr class='athing' id='27485574'>\n",
      "      <td align=\"right\" valign=\"top\" class=\"title\"><span class=\"rank\">14.</span></td>      <td valign=\"top\" class=\"votelinks\"><center><a id='up_27485574' href='vote?id=27485574&amp;how=up&amp;goto=news'><div class='votearrow' title='upvote'></div></a></center></td><td class=\"title\"><a href=\"https://arxiv.org/abs/2105.04026\" class=\"storylink\">The Modern Mathematics of Deep Learning</a><span class=\"sitebit comhead\"> (<a href=\"from?site=arxiv.org\"><span class=\"sitestr\">arxiv.org</span></a>)</span></td></tr><tr><td colspan=\"2\"></td><td class=\"subtext\">\n",
      "        <span class=\"score\" id=\"score_27485574\">227 points</span> by <a href=\"user?id=tims457\" class=\"hnuser\">tims457</a> <span class=\"age\"><a href=\"item?id=27485574\">14 hours ago</a></span> <span id=\"unv_27485574\"></span> | <a href=\"hide?id=27485574&amp;goto=news\">hide</a> | <a href=\"item?id=27485574\">52&nbsp;comments</a>              </td></tr>\n",
      "      <tr class=\"spacer\" style=\"height:5px\"></tr>\n",
      "                <tr class='athing' id='27485881'>\n",
      "      <td align=\"right\" valign=\"top\" class=\"title\"><span class=\"rank\">15.</span></td>      <td valign=\"top\" class=\"votelinks\"><center><a id='up_27485881' href='vote?id=27485881&amp;how=up&amp;goto=news'><div class='votearrow' title='upvote'></div></a></center></td><td class=\"title\"><a href=\"https://www.ox.ac.uk/news/2021-06-08-subatomic-particle-seen-changing-antiparticle-and-back-first-time\" class=\"storylink\">Subatomic particle seen changing to antiparticle and back for the first time</a><span class=\"sitebit comhead\"> (<a href=\"from?site=ox.ac.uk\"><span class=\"sitestr\">ox.ac.uk</span></a>)</span></td></tr><tr><td colspan=\"2\"></td><td class=\"subtext\">\n",
      "        <span class=\"score\" id=\"score_27485881\">127 points</span> by <a href=\"user?id=jdmark\" class=\"hnuser\">jdmark</a> <span class=\"age\"><a href=\"item?id=27485881\">13 hours ago</a></span> <span id=\"unv_27485881\"></span> | <a href=\"hide?id=27485881&amp;goto=news\">hide</a> | <a href=\"item?id=27485881\">18&nbsp;comments</a>              </td></tr>\n",
      "      <tr class=\"spacer\" style=\"height:5px\"></tr>\n",
      "                <tr class='athing' id='27474487'>\n",
      "      <td align=\"right\" valign=\"top\" class=\"title\"><span class=\"rank\">16.</span></td>      <td valign=\"top\" class=\"votelinks\"><center><a id='up_27474487' href='vote?id=27474487&amp;how=up&amp;goto=news'><div class='votearrow' title='upvote'></div></a></center></td><td class=\"title\"><a href=\"https://psyche.co/guides/how-to-think-clearly-to-improve-understanding-and-communication\" class=\"storylink\">How to Think Clearly</a><span class=\"sitebit comhead\"> (<a href=\"from?site=psyche.co\"><span class=\"sitestr\">psyche.co</span></a>)</span></td></tr><tr><td colspan=\"2\"></td><td class=\"subtext\">\n",
      "        <span class=\"score\" id=\"score_27474487\">223 points</span> by <a href=\"user?id=prostoalex\" class=\"hnuser\">prostoalex</a> <span class=\"age\"><a href=\"item?id=27474487\">14 hours ago</a></span> <span id=\"unv_27474487\"></span> | <a href=\"hide?id=27474487&amp;goto=news\">hide</a> | <a href=\"item?id=27474487\">56&nbsp;comments</a>              </td></tr>\n",
      "      <tr class=\"spacer\" style=\"height:5px\"></tr>\n",
      "                <tr class='athing' id='27490018'>\n",
      "      <td align=\"right\" valign=\"top\" class=\"title\"><span class=\"rank\">17.</span></td>      <td valign=\"top\" class=\"votelinks\"><center><a id='up_27490018' href='vote?id=27490018&amp;how=up&amp;goto=news'><div class='votearrow' title='upvote'></div></a></center></td><td class=\"title\"><a href=\"item?id=27490018\" class=\"storylink\">Ask HN: What things that tech recruiters do, annoy you the most as an engineer?</a></td></tr><tr><td colspan=\"2\"></td><td class=\"subtext\">\n",
      "        <span class=\"score\" id=\"score_27490018\">18 points</span> by <a href=\"user?id=pejrich\" class=\"hnuser\">pejrich</a> <span class=\"age\"><a href=\"item?id=27490018\">1 hour ago</a></span> <span id=\"unv_27490018\"></span> | <a href=\"hide?id=27490018&amp;goto=news\">hide</a> | <a href=\"item?id=27490018\">22&nbsp;comments</a>              </td></tr>\n",
      "      <tr class=\"spacer\" style=\"height:5px\"></tr>\n",
      "                <tr class='athing' id='27469108'>\n",
      "      <td align=\"right\" valign=\"top\" class=\"title\"><span class=\"rank\">18.</span></td>      <td valign=\"top\" class=\"votelinks\"><center><a id='up_27469108' href='vote?id=27469108&amp;how=up&amp;goto=news'><div class='votearrow' title='upvote'></div></a></center></td><td class=\"title\"><a href=\"https://lithub.com/on-the-cheating-scandal-that-nearly-ruined-baseball/\" class=\"storylink\">On the Cheating Scandal That Nearly Ruined Baseball</a><span class=\"sitebit comhead\"> (<a href=\"from?site=lithub.com\"><span class=\"sitestr\">lithub.com</span></a>)</span></td></tr><tr><td colspan=\"2\"></td><td class=\"subtext\">\n",
      "        <span class=\"score\" id=\"score_27469108\">21 points</span> by <a href=\"user?id=Thevet\" class=\"hnuser\">Thevet</a> <span class=\"age\"><a href=\"item?id=27469108\">4 hours ago</a></span> <span id=\"unv_27469108\"></span> | <a href=\"hide?id=27469108&amp;goto=news\">hide</a> | <a href=\"item?id=27469108\">17&nbsp;comments</a>              </td></tr>\n",
      "      <tr class=\"spacer\" style=\"height:5px\"></tr>\n",
      "                <tr class='athing' id='27489448'>\n",
      "      <td align=\"right\" valign=\"top\" class=\"title\"><span class=\"rank\">19.</span></td>      <td valign=\"top\" class=\"votelinks\"><center><a id='up_27489448' href='vote?id=27489448&amp;how=up&amp;goto=news'><div class='votearrow' title='upvote'></div></a></center></td><td class=\"title\"><a href=\"https://jessitron.com/2021/06/12/the-enterprise-eats-software/\" class=\"storylink\">The Enterprise Eats Software</a><span class=\"sitebit comhead\"> (<a href=\"from?site=jessitron.com\"><span class=\"sitestr\">jessitron.com</span></a>)</span></td></tr><tr><td colspan=\"2\"></td><td class=\"subtext\">\n",
      "        <span class=\"score\" id=\"score_27489448\">27 points</span> by <a href=\"user?id=zdw\" class=\"hnuser\">zdw</a> <span class=\"age\"><a href=\"item?id=27489448\">3 hours ago</a></span> <span id=\"unv_27489448\"></span> | <a href=\"hide?id=27489448&amp;goto=news\">hide</a> | <a href=\"item?id=27489448\">2&nbsp;comments</a>              </td></tr>\n",
      "      <tr class=\"spacer\" style=\"height:5px\"></tr>\n",
      "                <tr class='athing' id='27487958'>\n",
      "      <td align=\"right\" valign=\"top\" class=\"title\"><span class=\"rank\">20.</span></td>      <td valign=\"top\" class=\"votelinks\"><center><a id='up_27487958' href='vote?id=27487958&amp;how=up&amp;goto=news'><div class='votearrow' title='upvote'></div></a></center></td><td class=\"title\"><a href=\"https://twitter.com/Andrew_Taylor/status/1403709080737390592\" class=\"storylink\">The code on the laptop in the stock photo at developer.bbc.com is user-editable</a><span class=\"sitebit comhead\"> (<a href=\"from?site=twitter.com/andrew_taylor\"><span class=\"sitestr\">twitter.com/andrew_taylor</span></a>)</span></td></tr><tr><td colspan=\"2\"></td><td class=\"subtext\">\n",
      "        <span class=\"score\" id=\"score_27487958\">298 points</span> by <a href=\"user?id=fanf2\" class=\"hnuser\">fanf2</a> <span class=\"age\"><a href=\"item?id=27487958\">8 hours ago</a></span> <span id=\"unv_27487958\"></span> | <a href=\"hide?id=27487958&amp;goto=news\">hide</a> | <a href=\"item?id=27487958\">41&nbsp;comments</a>              </td></tr>\n",
      "      <tr class=\"spacer\" style=\"height:5px\"></tr>\n",
      "                <tr class='athing' id='27447217'>\n",
      "      <td align=\"right\" valign=\"top\" class=\"title\"><span class=\"rank\">21.</span></td>      <td valign=\"top\" class=\"votelinks\"><center><a id='up_27447217' href='vote?id=27447217&amp;how=up&amp;goto=news'><div class='votearrow' title='upvote'></div></a></center></td><td class=\"title\"><a href=\"https://twitter.com/eshear/status/1402449647122018304\" class=\"storylink\">Twitch: Lessons Learned</a><span class=\"sitebit comhead\"> (<a href=\"from?site=twitter.com/eshear\"><span class=\"sitestr\">twitter.com/eshear</span></a>)</span></td></tr><tr><td colspan=\"2\"></td><td class=\"subtext\">\n",
      "        <span class=\"score\" id=\"score_27447217\">130 points</span> by <a href=\"user?id=tosh\" class=\"hnuser\">tosh</a> <span class=\"age\"><a href=\"item?id=27447217\">9 hours ago</a></span> <span id=\"unv_27447217\"></span> | <a href=\"hide?id=27447217&amp;goto=news\">hide</a> | <a href=\"item?id=27447217\">29&nbsp;comments</a>              </td></tr>\n",
      "      <tr class=\"spacer\" style=\"height:5px\"></tr>\n",
      "                <tr class='athing' id='27483755'>\n",
      "      <td align=\"right\" valign=\"top\" class=\"title\"><span class=\"rank\">22.</span></td>      <td valign=\"top\" class=\"votelinks\"><center><a id='up_27483755' href='vote?id=27483755&amp;how=up&amp;goto=news'><div class='votearrow' title='upvote'></div></a></center></td><td class=\"title\"><a href=\"https://hacks.mozilla.org/2021/06/implementing-private-fields-for-javascript/\" class=\"storylink\" rel=\"nofollow\">Implementing Private Fields for JavaScript</a><span class=\"sitebit comhead\"> (<a href=\"from?site=hacks.mozilla.org\"><span class=\"sitestr\">hacks.mozilla.org</span></a>)</span></td></tr><tr><td colspan=\"2\"></td><td class=\"subtext\">\n",
      "        <span class=\"score\" id=\"score_27483755\">4 points</span> by <a href=\"user?id=kiyanwang\" class=\"hnuser\">kiyanwang</a> <span class=\"age\"><a href=\"item?id=27483755\">1 hour ago</a></span> <span id=\"unv_27483755\"></span> | <a href=\"hide?id=27483755&amp;goto=news\">hide</a> | <a href=\"item?id=27483755\">1&nbsp;comment</a>              </td></tr>\n",
      "      <tr class=\"spacer\" style=\"height:5px\"></tr>\n",
      "                <tr class='athing' id='27486372'>\n",
      "      <td align=\"right\" valign=\"top\" class=\"title\"><span class=\"rank\">23.</span></td>      <td valign=\"top\" class=\"votelinks\"><center><a id='up_27486372' href='vote?id=27486372&amp;how=up&amp;goto=news'><div class='votearrow' title='upvote'></div></a></center></td><td class=\"title\"><a href=\"https://www.reuters.com/business/autos-transportation/vw-says-data-breach-vendor-impacted-33-million-people-north-america-2021-06-11/\" class=\"storylink\">VW says data breach at vendor impacted 3.3M people in North America</a><span class=\"sitebit comhead\"> (<a href=\"from?site=reuters.com\"><span class=\"sitestr\">reuters.com</span></a>)</span></td></tr><tr><td colspan=\"2\"></td><td class=\"subtext\">\n",
      "        <span class=\"score\" id=\"score_27486372\">65 points</span> by <a href=\"user?id=ibraheemdev\" class=\"hnuser\">ibraheemdev</a> <span class=\"age\"><a href=\"item?id=27486372\">12 hours ago</a></span> <span id=\"unv_27486372\"></span> | <a href=\"hide?id=27486372&amp;goto=news\">hide</a> | <a href=\"item?id=27486372\">18&nbsp;comments</a>              </td></tr>\n",
      "      <tr class=\"spacer\" style=\"height:5px\"></tr>\n",
      "                <tr class='athing' id='27485270'>\n",
      "      <td align=\"right\" valign=\"top\" class=\"title\"><span class=\"rank\">24.</span></td>      <td valign=\"top\" class=\"votelinks\"><center><a id='up_27485270' href='vote?id=27485270&amp;how=up&amp;goto=news'><div class='votearrow' title='upvote'></div></a></center></td><td class=\"title\"><a href=\"https://ssir.org/articles/entry/burnout_from_an_organizational_perspective\" class=\"storylink\">Burnout from an Organizational Perspective</a><span class=\"sitebit comhead\"> (<a href=\"from?site=ssir.org\"><span class=\"sitestr\">ssir.org</span></a>)</span></td></tr><tr><td colspan=\"2\"></td><td class=\"subtext\">\n",
      "        <span class=\"score\" id=\"score_27485270\">176 points</span> by <a href=\"user?id=rustoo\" class=\"hnuser\">rustoo</a> <span class=\"age\"><a href=\"item?id=27485270\">14 hours ago</a></span> <span id=\"unv_27485270\"></span> | <a href=\"hide?id=27485270&amp;goto=news\">hide</a> | <a href=\"item?id=27485270\">79&nbsp;comments</a>              </td></tr>\n",
      "      <tr class=\"spacer\" style=\"height:5px\"></tr>\n",
      "                <tr class='athing' id='27487407'>\n",
      "      <td align=\"right\" valign=\"top\" class=\"title\"><span class=\"rank\">25.</span></td>      <td></td><td class=\"title\"><a href=\"https://jobs.lever.co/substackinc/5b1f2f5c-3809-4278-b93d-379433a34d81\" class=\"storylink\" rel=\"nofollow\">Substack (YC W18) is hiring engineers to build the future of writing</a><span class=\"sitebit comhead\"> (<a href=\"from?site=lever.co\"><span class=\"sitestr\">lever.co</span></a>)</span></td></tr><tr><td colspan=\"2\"></td><td class=\"subtext\">\n",
      "        <span class=\"age\"><a href=\"item?id=27487407\">9 hours ago</a></span> | <a href=\"hide?id=27487407&amp;goto=news\">hide</a>      </td></tr>\n",
      "      <tr class=\"spacer\" style=\"height:5px\"></tr>\n",
      "                <tr class='athing' id='27486820'>\n",
      "      <td align=\"right\" valign=\"top\" class=\"title\"><span class=\"rank\">26.</span></td>      <td valign=\"top\" class=\"votelinks\"><center><a id='up_27486820' href='vote?id=27486820&amp;how=up&amp;goto=news'><div class='votearrow' title='upvote'></div></a></center></td><td class=\"title\"><a href=\"https://rebeccaskinner.net/posts/2021-06-09-getting-to-the-fixed-point.html\" class=\"storylink\">The Fixed Point: Laziness, Recursion and Fixed Points in Haskell</a><span class=\"sitebit comhead\"> (<a href=\"from?site=rebeccaskinner.net\"><span class=\"sitestr\">rebeccaskinner.net</span></a>)</span></td></tr><tr><td colspan=\"2\"></td><td class=\"subtext\">\n",
      "        <span class=\"score\" id=\"score_27486820\">63 points</span> by <a href=\"user?id=rebeccaskinner\" class=\"hnuser\">rebeccaskinner</a> <span class=\"age\"><a href=\"item?id=27486820\">11 hours ago</a></span> <span id=\"unv_27486820\"></span> | <a href=\"hide?id=27486820&amp;goto=news\">hide</a> | <a href=\"item?id=27486820\">7&nbsp;comments</a>              </td></tr>\n",
      "      <tr class=\"spacer\" style=\"height:5px\"></tr>\n",
      "                <tr class='athing' id='27476206'>\n",
      "      <td align=\"right\" valign=\"top\" class=\"title\"><span class=\"rank\">27.</span></td>      <td valign=\"top\" class=\"votelinks\"><center><a id='up_27476206' href='vote?id=27476206&amp;how=up&amp;goto=news'><div class='votearrow' title='upvote'></div></a></center></td><td class=\"title\"><a href=\"https://www.theverge.com/2021/6/11/22528701/apple-rank-own-app-over-competitor-files-dropbox-wwdc-2017\" class=\"storylink\">Apple admits it ranked its Files app ahead of competitor Dropbox</a><span class=\"sitebit comhead\"> (<a href=\"from?site=theverge.com\"><span class=\"sitestr\">theverge.com</span></a>)</span></td></tr><tr><td colspan=\"2\"></td><td class=\"subtext\">\n",
      "        <span class=\"score\" id=\"score_27476206\">339 points</span> by <a href=\"user?id=what_ever\" class=\"hnuser\">what_ever</a> <span class=\"age\"><a href=\"item?id=27476206\">15 hours ago</a></span> <span id=\"unv_27476206\"></span> | <a href=\"hide?id=27476206&amp;goto=news\">hide</a> | <a href=\"item?id=27476206\">216&nbsp;comments</a>              </td></tr>\n",
      "      <tr class=\"spacer\" style=\"height:5px\"></tr>\n",
      "                <tr class='athing' id='27490169'>\n",
      "      <td align=\"right\" valign=\"top\" class=\"title\"><span class=\"rank\">28.</span></td>      <td valign=\"top\" class=\"votelinks\"><center><a id='up_27490169' href='vote?id=27490169&amp;how=up&amp;goto=news'><div class='votearrow' title='upvote'></div></a></center></td><td class=\"title\"><a href=\"https://slate.com/technology/2021/06/india-silicon-valley-twitter-google-censorship.html\" class=\"storylink\" rel=\"nofollow\">Silicon Valley Thought India Was Its Future. Now Everything Has Changed</a><span class=\"sitebit comhead\"> (<a href=\"from?site=slate.com\"><span class=\"sitestr\">slate.com</span></a>)</span></td></tr><tr><td colspan=\"2\"></td><td class=\"subtext\">\n",
      "        <span class=\"score\" id=\"score_27490169\">10 points</span> by <a href=\"user?id=mraza007\" class=\"hnuser\">mraza007</a> <span class=\"age\"><a href=\"item?id=27490169\">37 minutes ago</a></span> <span id=\"unv_27490169\"></span> | <a href=\"hide?id=27490169&amp;goto=news\">hide</a> | <a href=\"item?id=27490169\">1&nbsp;comment</a>              </td></tr>\n",
      "      <tr class=\"spacer\" style=\"height:5px\"></tr>\n",
      "                <tr class='athing' id='27485288'>\n",
      "      <td align=\"right\" valign=\"top\" class=\"title\"><span class=\"rank\">29.</span></td>      <td valign=\"top\" class=\"votelinks\"><center><a id='up_27485288' href='vote?id=27485288&amp;how=up&amp;goto=news'><div class='votearrow' title='upvote'></div></a></center></td><td class=\"title\"><a href=\"https://www.ucsf.edu/news/2019/08/415261/after-10-year-search-scientists-find-second-short-sleep-gene\" class=\"storylink\">Scientists find second ‘short sleep’ gene (2019)</a><span class=\"sitebit comhead\"> (<a href=\"from?site=ucsf.edu\"><span class=\"sitestr\">ucsf.edu</span></a>)</span></td></tr><tr><td colspan=\"2\"></td><td class=\"subtext\">\n",
      "        <span class=\"score\" id=\"score_27485288\">69 points</span> by <a href=\"user?id=fybs\" class=\"hnuser\">fybs</a> <span class=\"age\"><a href=\"item?id=27485288\">14 hours ago</a></span> <span id=\"unv_27485288\"></span> | <a href=\"hide?id=27485288&amp;goto=news\">hide</a> | <a href=\"item?id=27485288\">62&nbsp;comments</a>              </td></tr>\n",
      "      <tr class=\"spacer\" style=\"height:5px\"></tr>\n",
      "                <tr class='athing' id='27482235'>\n",
      "      <td align=\"right\" valign=\"top\" class=\"title\"><span class=\"rank\">30.</span></td>      <td valign=\"top\" class=\"votelinks\"><center><a id='up_27482235' href='vote?id=27482235&amp;how=up&amp;goto=news'><div class='votearrow' title='upvote'></div></a></center></td><td class=\"title\"><a href=\"https://if50.substack.com/p/1992-silverwolf\" class=\"storylink\">1992: Silverwolf</a><span class=\"sitebit comhead\"> (<a href=\"from?site=if50.substack.com\"><span class=\"sitestr\">if50.substack.com</span></a>)</span></td></tr><tr><td colspan=\"2\"></td><td class=\"subtext\">\n",
      "        <span class=\"score\" id=\"score_27482235\">82 points</span> by <a href=\"user?id=JohnHammersley\" class=\"hnuser\">JohnHammersley</a> <span class=\"age\"><a href=\"item?id=27482235\">15 hours ago</a></span> <span id=\"unv_27482235\"></span> | <a href=\"hide?id=27482235&amp;goto=news\">hide</a> | <a href=\"item?id=27482235\">10&nbsp;comments</a>              </td></tr>\n",
      "      <tr class=\"spacer\" style=\"height:5px\"></tr>\n",
      "            <tr class=\"morespace\" style=\"height:10px\"></tr><tr><td colspan=\"2\"></td><td class=\"title\"><a href=\"news?p=2\" class=\"morelink\" rel=\"next\">More</a></td></tr>\n",
      "  </table>\n",
      "</td></tr>\n",
      "<tr><td><img src=\"s.gif\" height=\"10\" width=\"0\"><table width=\"100%\" cellspacing=\"0\" cellpadding=\"1\"><tr><td bgcolor=\"#ff6600\"></td></tr></table><br><center><span class=\"yclinks\"><a href=\"newsguidelines.html\">Guidelines</a>\n",
      "        | <a href=\"newsfaq.html\">FAQ</a>\n",
      "        | <a href=\"lists\">Lists</a>\n",
      "        | <a href=\"https://github.com/HackerNews/API\">API</a>\n",
      "        | <a href=\"security.html\">Security</a>\n",
      "        | <a href=\"http://www.ycombinator.com/legal/\">Legal</a>\n",
      "        | <a href=\"http://www.ycombinator.com/apply/\">Apply to YC</a>\n",
      "        | <a href=\"mailto:hn@ycombinator.com\">Contact</a></span><br><br><form method=\"get\" action=\"//hn.algolia.com/\">Search:\n",
      "          <input type=\"text\" name=\"q\" value=\"\" size=\"17\" autocorrect=\"off\" spellcheck=\"false\" autocapitalize=\"off\" autocomplete=\"false\"></form>\n",
      "            </center></td></tr>\n",
      "      </table></center></body><script type='text/javascript' src='hn.js?k547ipgy5Sqxq1LLKYNi'></script></html>\n",
      "\n"
     ]
    }
   ],
   "source": [
    "import requests\n",
    "\n",
    "# Fetch a web page\n",
    "r = requests.get(\"https://news.ycombinator.com\")\n",
    "print(r.text)"
   ]
  },
  {
   "cell_type": "code",
   "execution_count": 5,
   "metadata": {
    "scrolled": false
   },
   "outputs": [
    {
     "name": "stdout",
     "output_type": "stream",
     "text": [
      "\n",
      "        \n",
      "          \n",
      "        Hacker News\n",
      "        \n",
      "                  Hacker News\n",
      "              new | past | comments | ask | show | jobs | submit            \n",
      "                              login\n",
      "                          \n",
      "              \n",
      "\n",
      "              \n",
      "      1.      Taildrop Was Kind of Easy (tailscale.com)\n",
      "        144 points by tptacek 5 hours ago  | hide | 47&nbsp;comments              \n",
      "      \n",
      "                \n",
      "      2.      Pakistan: A man trying to improve women's underwear (bbc.com)\n",
      "        22 points by arkj 1 hour ago  | hide | 10&nbsp;comments              \n",
      "      \n",
      "                \n",
      "      3.      The Schindler of Japan, Chihune Sugihara (tokyoweekender.com)\n",
      "        106 points by se4u 4 hours ago  | hide | 14&nbsp;comments              \n",
      "      \n",
      "                \n",
      "      4.      Hilton's bizarre 1967 plan for a space hotel (cnn.com)\n",
      "        36 points by ZeljkoS 3 hours ago  | hide | 17&nbsp;comments              \n",
      "      \n",
      "                \n",
      "      5.      How Your Phone Can Predict Depression and Lead to Personalized Treatment (ucsd.edu)\n",
      "        7 points by rustoo 1 hour ago  | hide | 2&nbsp;comments              \n",
      "      \n",
      "                \n",
      "      6.      Elevator Saga – An elevator programming game (elevatorsaga.com)\n",
      "        199 points by warpech 10 hours ago  | hide | 72&nbsp;comments              \n",
      "      \n",
      "                \n",
      "      7.      Reducing Python String Memory Use in Apache Arrow 0.12 (apache.org)\n",
      "        12 points by polm23 2 hours ago  | hide | discuss              \n",
      "      \n",
      "                \n",
      "      8.      Social media are turbocharging the export of America’s political culture (economist.com)\n",
      "        123 points by systemvoltage 5 hours ago  | hide | 101&nbsp;comments              \n",
      "      \n",
      "                \n",
      "      9.      A US socialite who gave it all up to become a Carmelite nun (bbc.com)\n",
      "        93 points by pepys 6 hours ago  | hide | 60&nbsp;comments              \n",
      "      \n",
      "                \n",
      "      10.      Babylon and the Square Root of 2 (johncarlosbaez.wordpress.com)\n",
      "        39 points by fortran77 5 hours ago  | hide | 3&nbsp;comments              \n",
      "      \n",
      "                \n",
      "      11.      Programmer's Resignation from 1985 (glitchwrks.com)\n",
      "        116 points by systems_glitch 7 hours ago  | hide | 29&nbsp;comments              \n",
      "      \n",
      "                \n",
      "      12.      A few thoughts on Fuchsia security (cr0.org)\n",
      "        103 points by steveklabnik 9 hours ago  | hide | 36&nbsp;comments              \n",
      "      \n",
      "                \n",
      "      13.      How Nasty Was Nero, Really? (newyorker.com)\n",
      "        51 points by diodorus 7 hours ago  | hide | 34&nbsp;comments              \n",
      "      \n",
      "                \n",
      "      14.      The Modern Mathematics of Deep Learning (arxiv.org)\n",
      "        227 points by tims457 14 hours ago  | hide | 52&nbsp;comments              \n",
      "      \n",
      "                \n",
      "      15.      Subatomic particle seen changing to antiparticle and back for the first time (ox.ac.uk)\n",
      "        127 points by jdmark 13 hours ago  | hide | 18&nbsp;comments              \n",
      "      \n",
      "                \n",
      "      16.      How to Think Clearly (psyche.co)\n",
      "        223 points by prostoalex 14 hours ago  | hide | 56&nbsp;comments              \n",
      "      \n",
      "                \n",
      "      17.      Ask HN: What things that tech recruiters do, annoy you the most as an engineer?\n",
      "        18 points by pejrich 1 hour ago  | hide | 22&nbsp;comments              \n",
      "      \n",
      "                \n",
      "      18.      On the Cheating Scandal That Nearly Ruined Baseball (lithub.com)\n",
      "        21 points by Thevet 4 hours ago  | hide | 17&nbsp;comments              \n",
      "      \n",
      "                \n",
      "      19.      The Enterprise Eats Software (jessitron.com)\n",
      "        27 points by zdw 3 hours ago  | hide | 2&nbsp;comments              \n",
      "      \n",
      "                \n",
      "      20.      The code on the laptop in the stock photo at developer.bbc.com is user-editable (twitter.com/andrew_taylor)\n",
      "        298 points by fanf2 8 hours ago  | hide | 41&nbsp;comments              \n",
      "      \n",
      "                \n",
      "      21.      Twitch: Lessons Learned (twitter.com/eshear)\n",
      "        130 points by tosh 9 hours ago  | hide | 29&nbsp;comments              \n",
      "      \n",
      "                \n",
      "      22.      Implementing Private Fields for JavaScript (hacks.mozilla.org)\n",
      "        4 points by kiyanwang 1 hour ago  | hide | 1&nbsp;comment              \n",
      "      \n",
      "                \n",
      "      23.      VW says data breach at vendor impacted 3.3M people in North America (reuters.com)\n",
      "        65 points by ibraheemdev 12 hours ago  | hide | 18&nbsp;comments              \n",
      "      \n",
      "                \n",
      "      24.      Burnout from an Organizational Perspective (ssir.org)\n",
      "        176 points by rustoo 14 hours ago  | hide | 79&nbsp;comments              \n",
      "      \n",
      "                \n",
      "      25.      Substack (YC W18) is hiring engineers to build the future of writing (lever.co)\n",
      "        9 hours ago | hide      \n",
      "      \n",
      "                \n",
      "      26.      The Fixed Point: Laziness, Recursion and Fixed Points in Haskell (rebeccaskinner.net)\n",
      "        63 points by rebeccaskinner 11 hours ago  | hide | 7&nbsp;comments              \n",
      "      \n",
      "                \n",
      "      27.      Apple admits it ranked its Files app ahead of competitor Dropbox (theverge.com)\n",
      "        339 points by what_ever 15 hours ago  | hide | 216&nbsp;comments              \n",
      "      \n",
      "                \n",
      "      28.      Silicon Valley Thought India Was Its Future. Now Everything Has Changed (slate.com)\n",
      "        10 points by mraza007 37 minutes ago  | hide | 1&nbsp;comment              \n",
      "      \n",
      "                \n",
      "      29.      Scientists find second ‘short sleep’ gene (2019) (ucsf.edu)\n",
      "        69 points by fybs 14 hours ago  | hide | 62&nbsp;comments              \n",
      "      \n",
      "                \n",
      "      30.      1992: Silverwolf (if50.substack.com)\n",
      "        82 points by JohnHammersley 15 hours ago  | hide | 10&nbsp;comments              \n",
      "      \n",
      "            More\n",
      "  \n",
      "\n",
      "Guidelines\n",
      "        | FAQ\n",
      "        | Lists\n",
      "        | API\n",
      "        | Security\n",
      "        | Legal\n",
      "        | Apply to YC\n",
      "        | ContactSearch:\n",
      "          \n",
      "            \n",
      "      \n",
      "\n"
     ]
    }
   ],
   "source": [
    "import re\n",
    "\n",
    "# Remove HTML tags using RegEx\n",
    "pattern = re.compile(r'<.*?>')  # tags look like <...>\n",
    "print(pattern.sub('', r.text))  # replace them with blank"
   ]
  },
  {
   "cell_type": "code",
   "execution_count": 6,
   "metadata": {
    "scrolled": false
   },
   "outputs": [
    {
     "name": "stdout",
     "output_type": "stream",
     "text": [
      "\n",
      "        \n",
      "          \n",
      "        Hacker News\n",
      "        \n",
      "                  Hacker News\n",
      "              new | past | comments | ask | show | jobs | submit            \n",
      "                              login\n",
      "                          \n",
      "              \n",
      "\n",
      "              \n",
      "      1.      Taildrop Was Kind of Easy (tailscale.com)\n",
      "        144 points by tptacek 5 hours ago  | hide | 47 comments              \n",
      "      \n",
      "                \n",
      "      2.      Pakistan: A man trying to improve women's underwear (bbc.com)\n",
      "        22 points by arkj 1 hour ago  | hide | 10 comments              \n",
      "      \n",
      "                \n",
      "      3.      The Schindler of Japan, Chihune Sugihara (tokyoweekender.com)\n",
      "        106 points by se4u 4 hours ago  | hide | 14 comments              \n",
      "      \n",
      "                \n",
      "      4.      Hilton's bizarre 1967 plan for a space hotel (cnn.com)\n",
      "        36 points by ZeljkoS 3 hours ago  | hide | 17 comments              \n",
      "      \n",
      "                \n",
      "      5.      How Your Phone Can Predict Depression and Lead to Personalized Treatment (ucsd.edu)\n",
      "        7 points by rustoo 1 hour ago  | hide | 2 comments              \n",
      "      \n",
      "                \n",
      "      6.      Elevator Saga – An elevator programming game (elevatorsaga.com)\n",
      "        199 points by warpech 10 hours ago  | hide | 72 comments              \n",
      "      \n",
      "                \n",
      "      7.      Reducing Python String Memory Use in Apache Arrow 0.12 (apache.org)\n",
      "        12 points by polm23 2 hours ago  | hide | discuss              \n",
      "      \n",
      "                \n",
      "      8.      Social media are turbocharging the export of America’s political culture (economist.com)\n",
      "        123 points by systemvoltage 5 hours ago  | hide | 101 comments              \n",
      "      \n",
      "                \n",
      "      9.      A US socialite who gave it all up to become a Carmelite nun (bbc.com)\n",
      "        93 points by pepys 6 hours ago  | hide | 60 comments              \n",
      "      \n",
      "                \n",
      "      10.      Babylon and the Square Root of 2 (johncarlosbaez.wordpress.com)\n",
      "        39 points by fortran77 5 hours ago  | hide | 3 comments              \n",
      "      \n",
      "                \n",
      "      11.      Programmer's Resignation from 1985 (glitchwrks.com)\n",
      "        116 points by systems_glitch 7 hours ago  | hide | 29 comments              \n",
      "      \n",
      "                \n",
      "      12.      A few thoughts on Fuchsia security (cr0.org)\n",
      "        103 points by steveklabnik 9 hours ago  | hide | 36 comments              \n",
      "      \n",
      "                \n",
      "      13.      How Nasty Was Nero, Really? (newyorker.com)\n",
      "        51 points by diodorus 7 hours ago  | hide | 34 comments              \n",
      "      \n",
      "                \n",
      "      14.      The Modern Mathematics of Deep Learning (arxiv.org)\n",
      "        227 points by tims457 14 hours ago  | hide | 52 comments              \n",
      "      \n",
      "                \n",
      "      15.      Subatomic particle seen changing to antiparticle and back for the first time (ox.ac.uk)\n",
      "        127 points by jdmark 13 hours ago  | hide | 18 comments              \n",
      "      \n",
      "                \n",
      "      16.      How to Think Clearly (psyche.co)\n",
      "        223 points by prostoalex 14 hours ago  | hide | 56 comments              \n",
      "      \n",
      "                \n",
      "      17.      Ask HN: What things that tech recruiters do, annoy you the most as an engineer?\n",
      "        18 points by pejrich 1 hour ago  | hide | 22 comments              \n",
      "      \n",
      "                \n",
      "      18.      On the Cheating Scandal That Nearly Ruined Baseball (lithub.com)\n",
      "        21 points by Thevet 4 hours ago  | hide | 17 comments              \n",
      "      \n",
      "                \n",
      "      19.      The Enterprise Eats Software (jessitron.com)\n",
      "        27 points by zdw 3 hours ago  | hide | 2 comments              \n",
      "      \n",
      "                \n",
      "      20.      The code on the laptop in the stock photo at developer.bbc.com is user-editable (twitter.com/andrew_taylor)\n",
      "        298 points by fanf2 8 hours ago  | hide | 41 comments              \n",
      "      \n",
      "                \n",
      "      21.      Twitch: Lessons Learned (twitter.com/eshear)\n",
      "        130 points by tosh 9 hours ago  | hide | 29 comments              \n",
      "      \n",
      "                \n",
      "      22.      Implementing Private Fields for JavaScript (hacks.mozilla.org)\n",
      "        4 points by kiyanwang 1 hour ago  | hide | 1 comment              \n",
      "      \n",
      "                \n",
      "      23.      VW says data breach at vendor impacted 3.3M people in North America (reuters.com)\n",
      "        65 points by ibraheemdev 12 hours ago  | hide | 18 comments              \n",
      "      \n",
      "                \n",
      "      24.      Burnout from an Organizational Perspective (ssir.org)\n",
      "        176 points by rustoo 14 hours ago  | hide | 79 comments              \n",
      "      \n",
      "                \n",
      "      25.      Substack (YC W18) is hiring engineers to build the future of writing (lever.co)\n",
      "        9 hours ago | hide      \n",
      "      \n",
      "                \n",
      "      26.      The Fixed Point: Laziness, Recursion and Fixed Points in Haskell (rebeccaskinner.net)\n",
      "        63 points by rebeccaskinner 11 hours ago  | hide | 7 comments              \n",
      "      \n",
      "                \n",
      "      27.      Apple admits it ranked its Files app ahead of competitor Dropbox (theverge.com)\n",
      "        339 points by what_ever 15 hours ago  | hide | 216 comments              \n",
      "      \n",
      "                \n",
      "      28.      Silicon Valley Thought India Was Its Future. Now Everything Has Changed (slate.com)\n",
      "        10 points by mraza007 37 minutes ago  | hide | 1 comment              \n",
      "      \n",
      "                \n",
      "      29.      Scientists find second ‘short sleep’ gene (2019) (ucsf.edu)\n",
      "        69 points by fybs 14 hours ago  | hide | 62 comments              \n",
      "      \n",
      "                \n",
      "      30.      1992: Silverwolf (if50.substack.com)\n",
      "        82 points by JohnHammersley 15 hours ago  | hide | 10 comments              \n",
      "      \n",
      "            More\n",
      "  \n",
      "\n",
      "Guidelines\n",
      "        | FAQ\n",
      "        | Lists\n",
      "        | API\n",
      "        | Security\n",
      "        | Legal\n",
      "        | Apply to YC\n",
      "        | ContactSearch:\n",
      "          \n",
      "            \n",
      "      \n",
      "\n"
     ]
    }
   ],
   "source": [
    "from bs4 import BeautifulSoup\n",
    "\n",
    "# Remove HTML tags using Beautiful Soup library\n",
    "soup = BeautifulSoup(r.text, \"html5lib\")\n",
    "print(soup.get_text())"
   ]
  },
  {
   "cell_type": "code",
   "execution_count": 7,
   "metadata": {
    "scrolled": true
   },
   "outputs": [
    {
     "data": {
      "text/plain": [
       "<tr class=\"athing\" id=\"27480281\">\n",
       "      <td align=\"right\" class=\"title\" valign=\"top\"><span class=\"rank\">1.</span></td>      <td class=\"votelinks\" valign=\"top\"><center><a href=\"vote?id=27480281&amp;how=up&amp;goto=news\" id=\"up_27480281\"><div class=\"votearrow\" title=\"upvote\"></div></a></center></td><td class=\"title\"><a class=\"storylink\" href=\"https://tailscale.com/blog/2021-06-taildrop-was-easy/\">Taildrop Was Kind of Easy</a><span class=\"sitebit comhead\"> (<a href=\"from?site=tailscale.com\"><span class=\"sitestr\">tailscale.com</span></a>)</span></td></tr>"
      ]
     },
     "execution_count": 7,
     "metadata": {},
     "output_type": "execute_result"
    }
   ],
   "source": [
    "# Find all articles\n",
    "summaries = soup.find_all(\"tr\", class_=\"athing\")\n",
    "summaries[0]"
   ]
  },
  {
   "cell_type": "code",
   "execution_count": 8,
   "metadata": {},
   "outputs": [
    {
     "data": {
      "text/plain": [
       "'Taildrop Was Kind of Easy'"
      ]
     },
     "execution_count": 8,
     "metadata": {},
     "output_type": "execute_result"
    }
   ],
   "source": [
    "# Extract title\n",
    "summaries[0].find(\"a\", class_=\"storylink\").get_text().strip()"
   ]
  },
  {
   "cell_type": "code",
   "execution_count": 9,
   "metadata": {},
   "outputs": [
    {
     "name": "stdout",
     "output_type": "stream",
     "text": [
      "30 Article summaries found. Sample:\n",
      "Taildrop Was Kind of Easy\n"
     ]
    }
   ],
   "source": [
    "# Find all articles, extract titles\n",
    "articles = []\n",
    "summaries = soup.find_all(\"tr\", class_=\"athing\")\n",
    "for summary in summaries:\n",
    "    title = summary.find(\"a\", class_=\"storylink\").get_text().strip()\n",
    "    articles.append((title))\n",
    "\n",
    "print(len(articles), \"Article summaries found. Sample:\")\n",
    "print(articles[0])"
   ]
  },
  {
   "cell_type": "markdown",
   "metadata": {
    "collapsed": true
   },
   "source": [
    "## Normalization"
   ]
  },
  {
   "cell_type": "markdown",
   "metadata": {},
   "source": [
    "### Case Normalization"
   ]
  },
  {
   "cell_type": "code",
   "execution_count": 10,
   "metadata": {},
   "outputs": [
    {
     "name": "stdout",
     "output_type": "stream",
     "text": [
      "The first time you see The Second Renaissance it may look boring. Look at it at least twice and definitely watch part 2. It will change your view of the matrix. Are the human people the ones who started the war ? Is AI a bad thing ?\n"
     ]
    }
   ],
   "source": [
    "# Sample text\n",
    "text = \"The first time you see The Second Renaissance it may look boring. Look at it at least twice and definitely watch part 2. It will change your view of the matrix. Are the human people the ones who started the war ? Is AI a bad thing ?\"\n",
    "print(text)"
   ]
  },
  {
   "cell_type": "code",
   "execution_count": 11,
   "metadata": {},
   "outputs": [
    {
     "name": "stdout",
     "output_type": "stream",
     "text": [
      "the first time you see the second renaissance it may look boring. look at it at least twice and definitely watch part 2. it will change your view of the matrix. are the human people the ones who started the war ? is ai a bad thing ?\n"
     ]
    }
   ],
   "source": [
    "# Convert to lowercase\n",
    "text = text.lower() \n",
    "print(text)"
   ]
  },
  {
   "cell_type": "markdown",
   "metadata": {},
   "source": [
    "### Punctuation Removal"
   ]
  },
  {
   "cell_type": "code",
   "execution_count": 12,
   "metadata": {},
   "outputs": [
    {
     "name": "stdout",
     "output_type": "stream",
     "text": [
      "the first time you see the second renaissance it may look boring  look at it at least twice and definitely watch part 2  it will change your view of the matrix  are the human people the ones who started the war   is ai a bad thing  \n"
     ]
    }
   ],
   "source": [
    "import re\n",
    "\n",
    "# Remove punctuation characters\n",
    "text = re.sub(r\"[^a-zA-Z0-9]\", \" \", text) \n",
    "print(text)"
   ]
  },
  {
   "cell_type": "markdown",
   "metadata": {},
   "source": [
    "## Tokenization"
   ]
  },
  {
   "cell_type": "code",
   "execution_count": 13,
   "metadata": {},
   "outputs": [
    {
     "name": "stdout",
     "output_type": "stream",
     "text": [
      "['the', 'first', 'time', 'you', 'see', 'the', 'second', 'renaissance', 'it', 'may', 'look', 'boring', 'look', 'at', 'it', 'at', 'least', 'twice', 'and', 'definitely', 'watch', 'part', '2', 'it', 'will', 'change', 'your', 'view', 'of', 'the', 'matrix', 'are', 'the', 'human', 'people', 'the', 'ones', 'who', 'started', 'the', 'war', 'is', 'ai', 'a', 'bad', 'thing']\n"
     ]
    }
   ],
   "source": [
    "# Split text into tokens (words)\n",
    "words = text.split()\n",
    "print(words)"
   ]
  },
  {
   "cell_type": "markdown",
   "metadata": {},
   "source": [
    "### NLTK: Natural Language ToolKit"
   ]
  },
  {
   "cell_type": "code",
   "execution_count": 14,
   "metadata": {},
   "outputs": [],
   "source": [
    "import os\n",
    "import nltk\n",
    "nltk.data.path.append(os.path.join(os.getcwd(), \"nltk_data\"))"
   ]
  },
  {
   "cell_type": "code",
   "execution_count": 15,
   "metadata": {},
   "outputs": [
    {
     "name": "stdout",
     "output_type": "stream",
     "text": [
      "Dr. Smith graduated from the University of Washington. He later started an analytics firm called Lux, which catered to enterprise customers.\n"
     ]
    }
   ],
   "source": [
    "# Another sample text\n",
    "text = \"Dr. Smith graduated from the University of Washington. He later started an analytics firm called Lux, which catered to enterprise customers.\"\n",
    "print(text)"
   ]
  },
  {
   "cell_type": "code",
   "execution_count": 16,
   "metadata": {},
   "outputs": [
    {
     "name": "stdout",
     "output_type": "stream",
     "text": [
      "['Dr.', 'Smith', 'graduated', 'from', 'the', 'University', 'of', 'Washington', '.', 'He', 'later', 'started', 'an', 'analytics', 'firm', 'called', 'Lux', ',', 'which', 'catered', 'to', 'enterprise', 'customers', '.']\n"
     ]
    }
   ],
   "source": [
    "from nltk.tokenize import word_tokenize\n",
    "\n",
    "# Split text into words using NLTK\n",
    "words = word_tokenize(text)\n",
    "print(words)"
   ]
  },
  {
   "cell_type": "code",
   "execution_count": 17,
   "metadata": {},
   "outputs": [
    {
     "name": "stdout",
     "output_type": "stream",
     "text": [
      "['Dr. Smith graduated from the University of Washington.', 'He later started an analytics firm called Lux, which catered to enterprise customers.']\n"
     ]
    }
   ],
   "source": [
    "from nltk.tokenize import sent_tokenize\n",
    "\n",
    "# Split text into sentences\n",
    "sentences = sent_tokenize(text)\n",
    "print(sentences)"
   ]
  },
  {
   "cell_type": "code",
   "execution_count": 18,
   "metadata": {},
   "outputs": [
    {
     "name": "stdout",
     "output_type": "stream",
     "text": [
      "['i', 'me', 'my', 'myself', 'we', 'our', 'ours', 'ourselves', 'you', \"you're\", \"you've\", \"you'll\", \"you'd\", 'your', 'yours', 'yourself', 'yourselves', 'he', 'him', 'his', 'himself', 'she', \"she's\", 'her', 'hers', 'herself', 'it', \"it's\", 'its', 'itself', 'they', 'them', 'their', 'theirs', 'themselves', 'what', 'which', 'who', 'whom', 'this', 'that', \"that'll\", 'these', 'those', 'am', 'is', 'are', 'was', 'were', 'be', 'been', 'being', 'have', 'has', 'had', 'having', 'do', 'does', 'did', 'doing', 'a', 'an', 'the', 'and', 'but', 'if', 'or', 'because', 'as', 'until', 'while', 'of', 'at', 'by', 'for', 'with', 'about', 'against', 'between', 'into', 'through', 'during', 'before', 'after', 'above', 'below', 'to', 'from', 'up', 'down', 'in', 'out', 'on', 'off', 'over', 'under', 'again', 'further', 'then', 'once', 'here', 'there', 'when', 'where', 'why', 'how', 'all', 'any', 'both', 'each', 'few', 'more', 'most', 'other', 'some', 'such', 'no', 'nor', 'not', 'only', 'own', 'same', 'so', 'than', 'too', 'very', 's', 't', 'can', 'will', 'just', 'don', \"don't\", 'should', \"should've\", 'now', 'd', 'll', 'm', 'o', 're', 've', 'y', 'ain', 'aren', \"aren't\", 'couldn', \"couldn't\", 'didn', \"didn't\", 'doesn', \"doesn't\", 'hadn', \"hadn't\", 'hasn', \"hasn't\", 'haven', \"haven't\", 'isn', \"isn't\", 'ma', 'mightn', \"mightn't\", 'mustn', \"mustn't\", 'needn', \"needn't\", 'shan', \"shan't\", 'shouldn', \"shouldn't\", 'wasn', \"wasn't\", 'weren', \"weren't\", 'won', \"won't\", 'wouldn', \"wouldn't\"]\n"
     ]
    }
   ],
   "source": [
    "# List stop words\n",
    "from nltk.corpus import stopwords\n",
    "print(stopwords.words(\"english\"))"
   ]
  },
  {
   "cell_type": "code",
   "execution_count": 19,
   "metadata": {},
   "outputs": [
    {
     "name": "stdout",
     "output_type": "stream",
     "text": [
      "['the', 'first', 'time', 'you', 'see', 'the', 'second', 'renaissance', 'it', 'may', 'look', 'boring', 'look', 'at', 'it', 'at', 'least', 'twice', 'and', 'definitely', 'watch', 'part', '2', 'it', 'will', 'change', 'your', 'view', 'of', 'the', 'matrix', 'are', 'the', 'human', 'people', 'the', 'ones', 'who', 'started', 'the', 'war', 'is', 'ai', 'a', 'bad', 'thing']\n"
     ]
    }
   ],
   "source": [
    "# Reset text\n",
    "text = \"The first time you see The Second Renaissance it may look boring. Look at it at least twice and definitely watch part 2. It will change your view of the matrix. Are the human people the ones who started the war ? Is AI a bad thing ?\"\n",
    "\n",
    "# Normalize it\n",
    "text = re.sub(r\"[^a-zA-Z0-9]\", \" \", text.lower())\n",
    "\n",
    "# Tokenize it\n",
    "words = text.split()\n",
    "print(words)"
   ]
  },
  {
   "cell_type": "code",
   "execution_count": 20,
   "metadata": {},
   "outputs": [
    {
     "name": "stdout",
     "output_type": "stream",
     "text": [
      "['first', 'time', 'see', 'second', 'renaissance', 'may', 'look', 'boring', 'look', 'least', 'twice', 'definitely', 'watch', 'part', '2', 'change', 'view', 'matrix', 'human', 'people', 'ones', 'started', 'war', 'ai', 'bad', 'thing']\n"
     ]
    }
   ],
   "source": [
    "# Remove stop words\n",
    "words = [w for w in words if w not in stopwords.words(\"english\")]\n",
    "print(words)"
   ]
  },
  {
   "cell_type": "markdown",
   "metadata": {},
   "source": [
    "### Sentence Parsing"
   ]
  },
  {
   "cell_type": "code",
   "execution_count": 21,
   "metadata": {},
   "outputs": [
    {
     "name": "stdout",
     "output_type": "stream",
     "text": [
      "(S\n",
      "  (NP I)\n",
      "  (VP\n",
      "    (VP (V shot) (NP (Det an) (N elephant)))\n",
      "    (PP (P in) (NP (Det my) (N pajamas)))))\n",
      "(S\n",
      "  (NP I)\n",
      "  (VP\n",
      "    (V shot)\n",
      "    (NP (Det an) (N elephant) (PP (P in) (NP (Det my) (N pajamas))))))\n"
     ]
    }
   ],
   "source": [
    "import nltk\n",
    "\n",
    "# Define a custom grammar\n",
    "my_grammar = nltk.CFG.fromstring(\"\"\"\n",
    "S -> NP VP\n",
    "PP -> P NP\n",
    "NP -> Det N | Det N PP | 'I'\n",
    "VP -> V NP | VP PP\n",
    "Det -> 'an' | 'my'\n",
    "N -> 'elephant' | 'pajamas'\n",
    "V -> 'shot'\n",
    "P -> 'in'\n",
    "\"\"\")\n",
    "parser = nltk.ChartParser(my_grammar)\n",
    "\n",
    "# Parse a sentence\n",
    "sentence = word_tokenize(\"I shot an elephant in my pajamas\")\n",
    "for tree in parser.parse(sentence):\n",
    "    print(tree)"
   ]
  },
  {
   "cell_type": "markdown",
   "metadata": {},
   "source": [
    "## Stemming & Lemmatization\n",
    "\n",
    "### Stemming"
   ]
  },
  {
   "cell_type": "code",
   "execution_count": 22,
   "metadata": {},
   "outputs": [
    {
     "name": "stdout",
     "output_type": "stream",
     "text": [
      "['first', 'time', 'see', 'second', 'renaiss', 'may', 'look', 'bore', 'look', 'least', 'twice', 'definit', 'watch', 'part', '2', 'chang', 'view', 'matrix', 'human', 'peopl', 'one', 'start', 'war', 'ai', 'bad', 'thing']\n"
     ]
    }
   ],
   "source": [
    "from nltk.stem.porter import PorterStemmer\n",
    "\n",
    "# Reduce words to their stems\n",
    "stemmed = [PorterStemmer().stem(w) for w in words]\n",
    "print(stemmed)"
   ]
  },
  {
   "cell_type": "markdown",
   "metadata": {},
   "source": [
    "### Lemmatization"
   ]
  },
  {
   "cell_type": "code",
   "execution_count": 23,
   "metadata": {},
   "outputs": [
    {
     "name": "stdout",
     "output_type": "stream",
     "text": [
      "['first', 'time', 'see', 'second', 'renaissance', 'may', 'look', 'boring', 'look', 'least', 'twice', 'definitely', 'watch', 'part', '2', 'change', 'view', 'matrix', 'human', 'people', 'one', 'started', 'war', 'ai', 'bad', 'thing']\n"
     ]
    }
   ],
   "source": [
    "from nltk.stem.wordnet import WordNetLemmatizer\n",
    "\n",
    "# Reduce words to their root form\n",
    "lemmed = [WordNetLemmatizer().lemmatize(w) for w in words]\n",
    "print(lemmed)"
   ]
  },
  {
   "cell_type": "code",
   "execution_count": 24,
   "metadata": {},
   "outputs": [
    {
     "name": "stdout",
     "output_type": "stream",
     "text": [
      "['first', 'time', 'see', 'second', 'renaissance', 'may', 'look', 'bore', 'look', 'least', 'twice', 'definitely', 'watch', 'part', '2', 'change', 'view', 'matrix', 'human', 'people', 'one', 'start', 'war', 'ai', 'bad', 'thing']\n"
     ]
    }
   ],
   "source": [
    "# Lemmatize verbs by specifying pos\n",
    "lemmed = [WordNetLemmatizer().lemmatize(w, pos='v') for w in lemmed]\n",
    "print(lemmed)"
   ]
  },
  {
   "cell_type": "code",
   "execution_count": null,
   "metadata": {},
   "outputs": [],
   "source": []
  }
 ],
 "metadata": {
  "kernelspec": {
   "display_name": "Python 3",
   "language": "python",
   "name": "python3"
  },
  "language_info": {
   "codemirror_mode": {
    "name": "ipython",
    "version": 3
   },
   "file_extension": ".py",
   "mimetype": "text/x-python",
   "name": "python",
   "nbconvert_exporter": "python",
   "pygments_lexer": "ipython3",
   "version": "3.6.3"
  }
 },
 "nbformat": 4,
 "nbformat_minor": 2
}
