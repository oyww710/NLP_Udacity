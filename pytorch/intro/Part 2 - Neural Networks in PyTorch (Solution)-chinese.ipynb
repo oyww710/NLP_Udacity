{
 "cells": [
  {
   "cell_type": "markdown",
   "metadata": {},
   "source": [
    "﻿# 通过 PyTorch 构建神经网络\n",
    "\n",
    "深度学习网络一般量级都很大，包含数百个层级，这也是为什么叫“深度”学习网络。你可以像在上个 notebook 展示的一样，仅使用权重矩阵构建深度网络，但是这通常很繁琐并且不好实施。PyTorch 有一个很方便的模块 `nn`，可以有效地构建大型神经网络。"
   ]
  },
  {
   "cell_type": "code",
   "execution_count": 1,
   "metadata": {},
   "outputs": [],
   "source": [
    "# Import necessary packages\n",
    "\n",
    "%matplotlib inline\n",
    "%config InlineBackend.figure_format = 'retina'\n",
    "\n",
    "import numpy as np\n",
    "import torch\n",
    "\n",
    "import helper\n",
    "\n",
    "import matplotlib.pyplot as plt"
   ]
  },
  {
   "cell_type": "markdown",
   "metadata": {},
   "source": [
    "现在我们要构建一个大型网络，并用它解决识别图像中的文字的这一难题。我们将使用 MNIST 数据集，这个数据集由灰色的手写数字组成。每个图像都是 28x28，如以下示例所示：\n",
    "\n",
    "<img src='assets/mnist.png'>\n",
    "\n",
    "我们的目标是构建一个神经网络，可以预测图像中的数字。\n",
    "\n",
    "首先，我们需要获取数据集。这些数据位于 `torchvision` 软件包中。以下代码将下载 MNIST 数据集，然后为我们创建训练数据集和测试数据集。不用太在意细节内容，稍后会详细学习的。"
   ]
  },
  {
   "cell_type": "code",
   "execution_count": 2,
   "metadata": {},
   "outputs": [
    {
     "name": "stdout",
     "output_type": "stream",
     "text": [
      "Downloading http://yann.lecun.com/exdb/mnist/train-images-idx3-ubyte.gz\n",
      "Downloading http://yann.lecun.com/exdb/mnist/train-labels-idx1-ubyte.gz\n",
      "Downloading http://yann.lecun.com/exdb/mnist/t10k-images-idx3-ubyte.gz\n",
      "Downloading http://yann.lecun.com/exdb/mnist/t10k-labels-idx1-ubyte.gz\n",
      "Processing...\n",
      "Done!\n"
     ]
    }
   ],
   "source": [
    "### Run this cell\n",
    "\n",
    "from torchvision import datasets, transforms\n",
    "\n",
    "# Define a transform to normalize the data\n",
    "transform = transforms.Compose([transforms.ToTensor(),\n",
    "                              transforms.Normalize((0.5,), (0.5,)),\n",
    "                              ])\n",
    "# Download and load the training data\n",
    "trainset = datasets.MNIST('~/.pytorch/MNIST_data/', download=True, train=True, transform=transform)\n",
    "trainloader = torch.utils.data.DataLoader(trainset, batch_size=64, shuffle=True)"
   ]
  },
  {
   "cell_type": "markdown",
   "metadata": {},
   "source": [
    "我们将训练数据加载到 `trainloader` 中，并使用 `iter(trainloader)` 使其变成迭代器。之后，我们将用它循环访问数据集以进行训练，例如"
   ]
  },
  {
   "cell_type": "code",
   "execution_count": 3,
   "metadata": {},
   "outputs": [
    {
     "ename": "SyntaxError",
     "evalue": "unexpected EOF while parsing (<ipython-input-3-754b1a9cb4e4>, line 2)",
     "output_type": "error",
     "traceback": [
      "\u001b[0;36m  File \u001b[0;32m\"<ipython-input-3-754b1a9cb4e4>\"\u001b[0;36m, line \u001b[0;32m2\u001b[0m\n\u001b[0;31m    ## do things with images and labels\u001b[0m\n\u001b[0m                                       ^\u001b[0m\n\u001b[0;31mSyntaxError\u001b[0m\u001b[0;31m:\u001b[0m unexpected EOF while parsing\n"
     ]
    }
   ],
   "source": [
    "for image, label in trainloader:\n",
    "    ## do things with images and labels"
   ]
  },
  {
   "cell_type": "markdown",
   "metadata": {},
   "source": [
    "我在创建 `trainloader` 时，将批次大小设为 64，并设置为 `shuffle=True`。批次大小是指我们在一次迭代中从数据加载器获取并经过网络的图像数量。`shuffle=True` 表示每次重新访问数据加载器时，随机重排数据集。但是现在我仅获取第一批数据，以便查看数据。从下方可以看出，`images` 是一个张量，大小为 `(64, 1, 28, 28)`。因此，每批有 64 个图像，图像有 1 个颜色通道，共有 28x28 个图像。"
   ]
  },
  {
   "cell_type": "code",
   "execution_count": 4,
   "metadata": {},
   "outputs": [
    {
     "name": "stdout",
     "output_type": "stream",
     "text": [
      "<class 'torch.Tensor'>\n",
      "torch.Size([64, 1, 28, 28])\n",
      "torch.Size([64])\n"
     ]
    }
   ],
   "source": [
    "dataiter = iter(trainloader)\n",
    "images, labels = dataiter.next()\n",
    "print(type(images))\n",
    "print(images.shape)\n",
    "print(labels.shape)"
   ]
  },
  {
   "cell_type": "code",
   "execution_count": 5,
   "metadata": {},
   "outputs": [
    {
     "ename": "SyntaxError",
     "evalue": "invalid syntax (<ipython-input-5-a8b1b50248e3>, line 1)",
     "output_type": "error",
     "traceback": [
      "\u001b[0;36m  File \u001b[0;32m\"<ipython-input-5-a8b1b50248e3>\"\u001b[0;36m, line \u001b[0;32m1\u001b[0m\n\u001b[0;31m    <class 'torch.Tensor'>\u001b[0m\n\u001b[0m    ^\u001b[0m\n\u001b[0;31mSyntaxError\u001b[0m\u001b[0;31m:\u001b[0m invalid syntax\n"
     ]
    }
   ],
   "source": [
    "<class 'torch.Tensor'>\n",
    "torch.Size([64, 1, 28, 28])\n",
    "torch.Size([64])\n"
   ]
  },
  {
   "cell_type": "markdown",
   "metadata": {},
   "source": [
    "下面是一个图像示例。"
   ]
  },
  {
   "cell_type": "code",
   "execution_count": 6,
   "metadata": {},
   "outputs": [
    {
     "data": {
      "image/png": "[encoded data removed]",
      "text/plain": [
       "<matplotlib.figure.Figure at 0x7f3de7d196d8>"
      ]
     },
     "metadata": {
      "image/png": {
       "height": 250,
       "width": 253
      },
      "needs_background": "light"
     },
     "output_type": "display_data"
    }
   ],
   "source": [
    "plt.imshow(images[1].numpy().squeeze(), cmap='Greys_r');"
   ]
  },
  {
   "cell_type": "markdown",
   "metadata": {},
   "source": [
    "![png](output_7_0.png)\n",
    "\n",
    "\n",
    "首先，我们要使用权重矩阵和矩阵乘法，用此数据集构建一个简单的网络。然后，我们将学习如何使用 PyTorch 的 `nn` 模块构建该网络。\n",
    "\n",
    "神经网络又称为*全连接*或*密集*网络。一个层级中的每个单元都与下个层级中的每个单元相连。在全连接网络中，每个层级的输入必须是一维向量（可以作为一批样本堆叠为二维张量）。但是，我们的图像是 28x28 二维张量，因此我们需要将其转换为一维向量。考虑到大小问题，我们需要将形状为 `(64, 1, 28, 28)` 的批次图像变形为 `(64, 784)`，784 等于 28 x 28。这一步通常称为*扁平化*，我们将二维图像扁平化为一维向量。\n",
    "\n",
    "之前，我们试过了构建具有一个输出单元的简单网络。现在，我们需要 10 个输出单元，每个数字对应一个单元。如果要预测出图像中显示的数字，我们必须计算该图像属于任何数字或类别的概率。我们会得到一个离散概率分布，告诉我们图像最有可能属于哪个类别。这就是说，我们需要 10 个输出单元，对应 10 个类别（数字）。下面讲解如何将网络输出转换为概率分布。\n",
    "\n",
    "> **练习：**将 `images`扁平化。然后构建一个多层网络，有 784 个输入单元、256 个隐藏单元和 10 个输出单元，并对权重和偏差使用随机张量。目前，我们对隐藏层使用 S 型激活函数。输出层暂时不需要激活函数，下一步我们将添加计算概率分布的激活函数。"
   ]
  },
  {
   "cell_type": "code",
   "execution_count": 17,
   "metadata": {},
   "outputs": [],
   "source": [
    "## Solution\n",
    "def activation(x):\n",
    "    return 1/(1+torch.exp(-x))\n",
    "\n",
    "# Flatten the input images\n",
    "inputs = images.view(images.shape[0], -1)\n",
    "\n",
    "# Create parameters\n",
    "w1 = torch.randn(784, 256)\n",
    "b1 = torch.randn(256)\n",
    "\n",
    "w2 = torch.randn(256, 10)\n",
    "b2 = torch.randn(10)\n",
    "\n",
    "h = activation(torch.mm(inputs, w1) + b1)\n",
    "\n",
    "out = torch.mm(h, w2) + b2"
   ]
  },
  {
   "cell_type": "code",
   "execution_count": 18,
   "metadata": {},
   "outputs": [
    {
     "data": {
      "text/plain": [
       "tensor([[-1.0000, -1.0000, -1.0000,  ..., -1.0000, -1.0000, -1.0000],\n",
       "        [-1.0000, -1.0000, -1.0000,  ..., -1.0000, -1.0000, -1.0000],\n",
       "        [-1.0000, -1.0000, -1.0000,  ..., -1.0000, -1.0000, -1.0000],\n",
       "        ...,\n",
       "        [-1.0000, -1.0000, -1.0000,  ..., -1.0000, -1.0000, -1.0000],\n",
       "        [-1.0000, -1.0000, -1.0000,  ..., -1.0000, -1.0000, -1.0000],\n",
       "        [-1.0000, -1.0000, -1.0000,  ..., -1.0000, -1.0000, -1.0000]])"
      ]
     },
     "execution_count": 18,
     "metadata": {},
     "output_type": "execute_result"
    }
   ],
   "source": [
    "inputs"
   ]
  },
  {
   "cell_type": "code",
   "execution_count": 19,
   "metadata": {},
   "outputs": [
    {
     "data": {
      "text/plain": [
       "torch.Size([64, 784])"
      ]
     },
     "execution_count": 19,
     "metadata": {},
     "output_type": "execute_result"
    }
   ],
   "source": [
    "inputs.shape"
   ]
  },
  {
   "cell_type": "code",
   "execution_count": 20,
   "metadata": {
    "scrolled": false
   },
   "outputs": [
    {
     "data": {
      "text/plain": [
       "tensor([[ 2.8909e+00, -3.8873e+00,  4.8279e+00, -2.6876e+00,  5.1432e+00,\n",
       "         -1.4630e-01,  2.0001e+01, -3.5034e+00,  1.2129e+00,  1.4241e+00],\n",
       "        [ 1.2266e+00,  5.8161e+00, -8.8884e+00, -2.4663e+00,  4.2091e+00,\n",
       "          1.3396e+01,  8.5350e+00, -1.1502e+01,  3.6381e+00,  4.9343e+00],\n",
       "        [ 1.7918e+00,  3.7537e+00, -2.2715e+00,  5.6060e+00, -7.7896e-03,\n",
       "         -1.0023e+01,  2.1756e+01,  1.7196e+00,  8.2760e+00, -9.4039e+00],\n",
       "        [-2.1647e+00, -3.4397e+00,  2.3157e+00, -4.8211e+00,  1.2595e+01,\n",
       "         -2.3445e+00,  1.0489e+01,  4.7736e-01,  3.7617e+00, -7.8517e+00],\n",
       "        [-8.1650e+00,  5.7490e+00, -1.0351e+01, -2.7996e+00,  4.3124e+00,\n",
       "         -4.6616e+00,  1.2483e+01, -1.4437e+01,  5.6807e+00, -2.0474e-01],\n",
       "        [ 5.4444e+00,  4.0998e+00,  2.3339e+00,  1.1435e+01,  1.3769e+01,\n",
       "          8.0874e+00,  2.0595e+01, -1.5125e+00,  1.1485e+01, -6.4995e+00],\n",
       "        [-4.4460e+00, -1.4698e+00, -6.4105e+00, -6.0277e+00,  8.3361e+00,\n",
       "         -8.0735e+00,  8.2120e+00, -4.2714e+00,  1.5941e+01,  1.0943e+00],\n",
       "        [ 3.7802e+00,  5.4989e+00, -3.2867e+00, -2.2470e+00,  3.9211e+00,\n",
       "          2.1222e+00,  2.1555e+01, -1.1099e+01,  2.5031e+00, -1.0271e+01],\n",
       "        [-1.5413e+01,  1.2530e+01,  4.2860e+00, -6.1144e+00,  5.7030e+00,\n",
       "         -2.8205e+00,  5.6006e+00, -1.2680e+01,  9.2082e-01, -3.6841e+00],\n",
       "        [ 4.1089e+00,  9.4635e+00, -9.5432e+00, -3.3723e+00,  1.9808e+00,\n",
       "         -4.9590e-01,  2.3769e+01, -1.5864e+01,  1.0021e+01,  4.3828e+00],\n",
       "        [ 2.3829e+00,  3.1341e+00, -1.1564e+01, -3.0741e+00,  7.2923e+00,\n",
       "          7.2604e+00,  1.5463e+01, -7.8917e+00,  5.3624e+00, -4.7322e+00],\n",
       "        [-9.3071e-01,  5.3499e+00,  4.7526e-01, -1.5601e+00,  1.5784e+00,\n",
       "          1.0191e+00,  1.3405e+01, -9.7395e+00,  1.0633e+01, -6.6581e+00],\n",
       "        [-2.9366e+00, -6.3047e+00, -9.7231e+00,  4.3248e-01,  4.9698e+00,\n",
       "          6.8696e+00,  1.4704e+01, -1.9609e+01,  7.9540e+00, -9.4406e-02],\n",
       "        [ 1.6739e+00, -1.8499e+00, -1.8533e+00, -4.6924e-01,  3.0400e+00,\n",
       "          1.1325e+00,  2.4065e+01, -1.1798e+01,  6.9602e+00, -3.1962e+00],\n",
       "        [ 7.3460e+00,  1.8356e+01, -8.8136e+00, -4.1286e+00,  1.1285e+01,\n",
       "          1.4448e+01,  7.2525e+00, -1.4786e+01,  5.5182e+00,  3.1504e+00],\n",
       "        [-4.3793e+00,  4.6492e-01, -6.0836e+00, -6.6462e+00,  1.1028e+00,\n",
       "         -4.8259e+00,  1.9909e+01, -7.4698e+00,  3.5978e+00, -5.6070e+00],\n",
       "        [-6.5351e+00, -1.3534e+01, -6.0627e+00, -4.7608e+00, -2.1165e-01,\n",
       "         -6.4558e+00,  4.0809e+00, -9.3100e+00,  7.4094e+00, -1.2836e+01],\n",
       "        [ 4.3803e+00, -1.5431e-01, -7.4270e+00, -1.2644e+01,  5.9717e+00,\n",
       "          3.3974e+00,  7.8213e+00, -2.2385e+00,  1.7123e+01,  2.0134e+00],\n",
       "        [ 6.9414e+00,  9.8525e+00, -1.8265e+01, -5.2103e+00,  3.0874e+00,\n",
       "          1.2699e+01,  1.4839e+01, -1.8175e+01,  1.1677e+01,  2.4272e+00],\n",
       "        [ 8.6892e-01,  2.3044e+00, -1.2208e+01, -3.6299e+00,  2.2896e+00,\n",
       "          4.8502e+00,  1.9798e+01, -5.7309e+00,  5.0270e+00,  2.1429e+00],\n",
       "        [-4.4345e+00,  8.3302e+00, -7.6261e+00, -6.5120e+00,  5.4126e+00,\n",
       "          7.5366e+00,  1.8871e+01, -2.1303e+01,  4.8586e+00, -6.6905e+00],\n",
       "        [-1.1972e+01,  5.1192e+00, -7.2987e+00, -2.9197e+00,  1.2360e+01,\n",
       "         -2.5369e+00,  1.7157e+01, -1.8829e+01, -7.3068e-01, -6.8112e+00],\n",
       "        [-3.0554e-01,  4.7196e+00,  1.1612e+00,  6.8920e+00,  1.0515e+01,\n",
       "          3.4646e+00,  8.9062e+00, -1.4972e+01,  9.4217e+00,  8.1200e-01],\n",
       "        [-1.6718e+00,  7.5907e-01, -2.1197e+00, -4.0057e+00,  8.4248e+00,\n",
       "          8.0766e-02,  1.5980e+01, -1.1427e+01,  9.2662e+00, -1.6671e+00],\n",
       "        [ 7.2862e-01,  2.7370e+00, -5.2636e+00, -2.2779e+00,  8.4485e+00,\n",
       "          1.4157e+01,  2.1572e+01, -1.9899e+01,  1.2835e+01,  3.1825e+00],\n",
       "        [ 1.2538e+00, -7.0041e+00, -5.6586e+00, -4.2239e+00,  5.7224e+00,\n",
       "         -9.6034e-01,  4.0607e+00, -5.0247e+00,  8.9006e+00, -6.8802e+00],\n",
       "        [-4.9816e+00,  3.8989e+00, -3.4896e+00, -4.9087e+00,  1.5758e+01,\n",
       "         -2.8781e+00,  1.5715e+01, -8.6049e+00,  3.6394e+00, -1.3049e+01],\n",
       "        [ 7.6021e-01, -9.4267e-01, -4.7032e+00,  5.1089e+00,  1.3658e+01,\n",
       "          3.2657e+00,  1.6310e+01, -1.3240e+00, -2.6134e+00, -7.7551e+00],\n",
       "        [ 1.7381e+00,  1.0738e+00, -4.3194e+00, -1.0846e+01, -2.2680e+00,\n",
       "          1.2731e+01,  1.9780e+01, -9.3768e+00,  1.2852e+01, -1.1343e+00],\n",
       "        [-4.7419e+00, -3.5569e-01, -8.2853e+00, -3.5592e-01,  4.0873e+00,\n",
       "         -6.3828e+00,  7.9558e+00, -5.1660e+00,  1.2057e+01, -1.7830e+00],\n",
       "        [-2.6153e+00,  2.8753e+00, -7.5493e+00, -4.9606e+00,  4.5345e+00,\n",
       "         -7.1141e-01,  1.4962e+01, -9.4213e+00,  5.4576e+00, -6.8183e+00],\n",
       "        [-2.2927e+00,  2.0183e+00, -4.3356e+00, -9.1349e+00,  4.9578e+00,\n",
       "         -3.0009e+00,  1.6873e+01,  5.9475e-01,  5.3834e+00, -2.1606e+00],\n",
       "        [-5.3685e+00,  1.7111e+01,  1.0818e+01, -1.2065e+01,  1.6457e+01,\n",
       "         -7.7692e+00,  2.7444e+01, -8.1612e+00,  8.8964e+00,  1.0458e+00],\n",
       "        [ 5.4278e+00,  5.3740e+00, -1.1364e+01, -1.3950e+00, -2.1942e+00,\n",
       "          3.1725e+00,  1.6018e+01,  8.3872e+00,  2.5019e+00, -6.1379e+00],\n",
       "        [-2.7700e+00,  6.5718e+00, -1.8731e+00,  4.6057e+00,  6.0528e+00,\n",
       "          2.0633e+00,  1.1052e+01, -8.8973e+00,  8.3599e+00, -1.0716e+01],\n",
       "        [ 7.6914e+00,  1.7833e+00, -8.3466e+00, -4.8453e+00,  5.3405e+00,\n",
       "          1.1520e+01,  2.0672e+01, -1.2573e+01,  1.1560e+01, -4.6622e+00],\n",
       "        [ 1.3723e+01,  4.7500e-01, -7.9786e+00, -1.6906e+01,  5.5115e+00,\n",
       "          4.4530e+00,  2.3451e+01, -1.9803e+00,  1.0405e+00, -2.2985e+00],\n",
       "        [-1.0199e+01, -3.9356e+00, -1.3139e+01, -1.0985e+01,  2.0288e+00,\n",
       "          4.3582e+00,  1.4537e+01,  5.8557e+00,  1.3190e+01,  5.7302e+00],\n",
       "        [-2.3541e+00,  6.6178e+00, -6.8444e+00,  1.3614e-01,  1.4536e+01,\n",
       "         -3.2428e+00,  8.5639e+00, -4.8908e-01,  4.1346e+00, -9.2513e+00],\n",
       "        [-1.6133e+00,  4.8103e+00,  3.7713e-01,  5.3525e+00,  9.5736e+00,\n",
       "          1.1291e+00,  2.0776e+01, -9.9105e+00,  1.0824e+01, -3.3912e-01],\n",
       "        [-3.7890e+00,  9.8167e+00, -1.4643e+01,  1.2112e+00,  1.0651e+00,\n",
       "          4.6918e+00,  1.9199e+01, -1.2629e+01,  7.3361e+00, -1.3473e+00],\n",
       "        [ 3.2986e+00, -1.0325e+00, -1.2323e+01, -2.1823e-01,  1.3764e+01,\n",
       "          3.8842e-01,  1.2079e+01, -3.3750e+00, -1.8920e-01, -1.0475e+01],\n",
       "        [ 1.5992e+00, -6.9139e-01, -1.1070e+01, -5.8344e-01,  3.9465e+00,\n",
       "          3.4572e+00,  2.0790e+01, -1.8038e+01,  2.8790e+00,  1.0491e+00],\n",
       "        [-2.1737e+00,  1.2740e+00,  3.5223e+00, -3.7616e+00,  4.2082e+00,\n",
       "         -3.1968e+00,  1.6545e+01, -1.4318e+01,  8.3021e+00, -4.1893e+00],\n",
       "        [ 9.1359e+00, -6.9844e+00, -1.2934e+01, -4.8597e+00,  3.1738e-01,\n",
       "          5.6795e+00,  3.3835e+00, -1.7370e+01,  1.1594e+01,  1.2135e+00],\n",
       "        [-3.6895e+00,  2.5592e+00, -1.7067e+00,  4.0925e+00,  8.5361e+00,\n",
       "          7.9651e-01,  6.2477e+00, -1.0429e+01,  2.8947e+00,  2.7567e+00],\n",
       "        [ 3.5914e+00, -2.2875e+00, -8.0415e+00,  5.3837e-01,  1.0061e+01,\n",
       "          5.6498e-01,  1.2601e+01, -1.1811e+01,  8.8981e+00, -2.9492e+00],\n",
       "        [ 2.1889e+00, -2.1186e+00, -9.1801e+00, -9.6465e-01,  9.1560e+00,\n",
       "          3.3334e+00,  1.4590e+01, -9.2695e+00,  9.2855e+00, -6.2003e+00],\n",
       "        [-1.2312e+00,  1.0243e+01, -4.8742e+00, -1.0154e+01,  3.1529e+00,\n",
       "          1.9933e-01,  8.5475e+00, -1.4569e+01,  8.1900e+00, -4.0163e+00],\n",
       "        [ 6.0693e+00, -7.3088e+00, -1.1069e+01, -1.7186e+00,  9.4430e+00,\n",
       "          1.1395e+01,  2.9190e+00, -3.5440e+00,  4.9317e+00, -2.9203e+00],\n",
       "        [-2.9426e+00,  4.3139e+00, -3.3608e+00,  1.5971e+00,  8.5823e-01,\n",
       "          1.0862e+00,  1.1410e+01, -1.9975e+00,  6.8442e+00, -1.3235e+01],\n",
       "        [ 3.0847e+00, -5.6160e+00, -7.5841e+00, -4.3075e-01,  2.2676e-01,\n",
       "          4.4289e+00,  2.0804e+01, -1.0203e+01,  1.1984e+01, -3.5686e+00],\n",
       "        [-2.7659e-01,  4.1620e+00, -1.1699e+01,  4.3690e-02,  8.1601e+00,\n",
       "          4.7443e+00,  1.9040e+01, -1.3604e+01,  1.1797e+01, -4.8485e-02],\n",
       "        [ 4.9633e-02, -4.6924e-01, -5.5852e+00, -2.2874e+00,  4.4684e+00,\n",
       "         -1.6075e+00,  1.1301e+01, -4.6515e+00,  2.6293e+00, -5.8724e+00],\n",
       "        [-2.3145e+00, -8.0748e+00, -1.8683e+01, -8.7119e-02,  1.3479e+01,\n",
       "          7.1812e+00,  6.4963e+00, -9.0749e+00,  9.5014e+00,  7.1835e+00],\n",
       "        [-7.9850e-01,  4.7317e+00, -8.6737e+00, -7.0232e+00,  9.7690e+00,\n",
       "         -7.5961e+00,  1.3900e+01, -9.5376e+00,  1.0338e+01, -1.0615e+01],\n",
       "        [ 4.1667e+00, -2.6995e-01, -1.1504e+00, -3.5978e+00, -2.8459e+00,\n",
       "          1.1364e+00,  1.7572e+01, -1.7178e+01,  1.1303e+01, -3.7485e+00],\n",
       "        [ 7.3218e-01, -8.0003e+00,  1.6669e+00, -7.3525e-01,  1.2959e+01,\n",
       "          3.9184e+00,  1.3565e+01,  5.2447e+00,  5.5512e+00, -7.6804e+00],\n",
       "        [-5.2377e+00,  1.0977e+00, -3.1103e+00, -6.8327e+00,  1.4606e+01,\n",
       "         -5.6026e+00,  6.9068e+00, -1.8806e+01,  5.4137e+00, -5.8752e+00],\n",
       "        [-8.6936e+00,  6.7270e+00, -4.5134e+00, -2.1545e+00, -3.0698e+00,\n",
       "         -3.4867e+00,  1.8590e+01, -1.1313e+01,  3.7107e+00,  1.9417e+00],\n",
       "        [-8.0177e-01,  3.7415e+00,  1.7871e-01,  3.3473e+00,  1.0030e+01,\n",
       "          1.5365e+00,  1.8540e+01, -1.3822e+01,  5.4244e+00, -8.7819e+00],\n",
       "        [ 5.7089e-04,  1.3292e+00,  5.2451e-02, -3.7828e+00,  7.5352e+00,\n",
       "          1.1584e+00,  1.6090e+01, -9.3430e+00,  8.3835e+00, -5.5259e+00],\n",
       "        [ 2.0014e+00, -6.9233e-01, -1.1831e+01, -8.5259e+00,  3.2374e+00,\n",
       "          4.3146e+00,  1.0494e+01, -1.5908e+01,  1.2533e+01, -1.7647e+00],\n",
       "        [ 3.0533e-01, -6.1675e+00, -1.1860e+01, -9.3753e+00,  1.3372e+01,\n",
       "          2.0615e+00,  8.7404e-02, -6.6701e+00,  2.6031e+00, -9.2528e+00]])"
      ]
     },
     "execution_count": 20,
     "metadata": {},
     "output_type": "execute_result"
    }
   ],
   "source": [
    "out"
   ]
  },
  {
   "cell_type": "code",
   "execution_count": 21,
   "metadata": {},
   "outputs": [
    {
     "data": {
      "text/plain": [
       "torch.Size([64, 10])"
      ]
     },
     "execution_count": 21,
     "metadata": {},
     "output_type": "execute_result"
    }
   ],
   "source": [
    "out.shape"
   ]
  },
  {
   "cell_type": "markdown",
   "metadata": {},
   "source": [
    "现在网络有 10 个输出了。我们向网络中传入一个图像，并获得类别概率分布，告诉我们图像最有可能属于哪个数字/类别。结果如下所示：\n",
    "<img src='assets/image_distribution.png' width=500px>\n",
    "\n",
    "可以看出每个类别的概率大致相等。这是未训练网络的结果，网络尚未见过任何数据，因此返回均匀分布，每个类别的概率相等。\n",
    "\n",
    "可以用 [**softmax** 函数]计算概率分布(https://en.wikipedia.org/wiki/Softmax_function)。数学公式为：\n",
    "\n",
    "$$\n",
    "\\Large \\sigma(x_i) = \\cfrac{e^{x_i}}{\\sum_k^K{e^{x_k}}}\n",
    "$$\n",
    "\n",
    "它会将每个输入 $x_i$ 都缩放到 0 和 1 之间并标准化值，得出标准概率分布，其中概率总和是 1。\n",
    "\n",
    "> **练习：**实现一个进行 softmax 运算的函数 `softmax` ，并针对批次中的每个样本返回概率分布。注意，在运算时需要注意形状。如果有一个张量 `a` 的形状为 `(64, 10)`，另一个张量 `b` 的形状为 `(64,)`，进行 `a/b` 运算将出错，因为 PyTorch 会对列进行除法运算（称为广播），但是大小不匹配。提示：对于 64 个样本中的每个样本，你可以除以一个值，即分母中的和。因此需要使 `b` 变形为 `(64, 1)`。这样的话，PyTorch 将使 `a` 中每行的10 个值除以 `b` 中每行的一个值。另外，要注意求和的方式。你要在 `torch.sum` 中定义 `dim` 。`dim=0` 会对行求和，而 `dim=1` 会对列求和。"
   ]
  },
  {
   "cell_type": "code",
   "execution_count": 22,
   "metadata": {},
   "outputs": [
    {
     "name": "stdout",
     "output_type": "stream",
     "text": [
      "torch.Size([64, 10])\n",
      "tensor([ 1.0000,  1.0000,  1.0000,  1.0000,  1.0000,  1.0000,  1.0000,\n",
      "         1.0000,  1.0000,  1.0000,  1.0000,  1.0000,  1.0000,  1.0000,\n",
      "         1.0000,  1.0000,  1.0000,  1.0000,  1.0000,  1.0000,  1.0000,\n",
      "         1.0000,  1.0000,  1.0000,  1.0000,  1.0000,  1.0000,  1.0000,\n",
      "         1.0000,  1.0000,  1.0000,  1.0000,  1.0000,  1.0000,  1.0000,\n",
      "         1.0000,  1.0000,  1.0000,  1.0000,  1.0000,  1.0000,  1.0000,\n",
      "         1.0000,  1.0000,  1.0000,  1.0000,  1.0000,  1.0000,  1.0000,\n",
      "         1.0000,  1.0000,  1.0000,  1.0000,  1.0000,  1.0000,  1.0000,\n",
      "         1.0000,  1.0000,  1.0000,  1.0000,  1.0000,  1.0000,  1.0000,\n",
      "         1.0000])\n"
     ]
    }
   ],
   "source": [
    "## Solution\n",
    "def softmax(x):\n",
    "    return torch.exp(x)/torch.sum(torch.exp(x), dim=1).view(-1, 1)\n",
    "\n",
    "probabilities = softmax(out)\n",
    "\n",
    "# Does it have the right shape? Should be (64, 10)\n",
    "print(probabilities.shape)\n",
    "# Does it sum to 1?\n",
    "print(probabilities.sum(dim=1))"
   ]
  },
  {
   "cell_type": "code",
   "execution_count": 23,
   "metadata": {},
   "outputs": [
    {
     "ename": "NameError",
     "evalue": "name 'tensor' is not defined",
     "output_type": "error",
     "traceback": [
      "\u001b[0;31m---------------------------------------------------------------------------\u001b[0m",
      "\u001b[0;31mNameError\u001b[0m                                 Traceback (most recent call last)",
      "\u001b[0;32m<ipython-input-23-970f0b5f1f4b>\u001b[0m in \u001b[0;36m<module>\u001b[0;34m()\u001b[0m\n\u001b[1;32m      1\u001b[0m \u001b[0mtorch\u001b[0m\u001b[0;34m.\u001b[0m\u001b[0mSize\u001b[0m\u001b[0;34m(\u001b[0m\u001b[0;34m[\u001b[0m\u001b[0;36m64\u001b[0m\u001b[0;34m,\u001b[0m \u001b[0;36m10\u001b[0m\u001b[0;34m]\u001b[0m\u001b[0;34m)\u001b[0m\u001b[0;34m\u001b[0m\u001b[0m\n\u001b[0;32m----> 2\u001b[0;31m tensor([ 1.0000, 1.0000, 1.0000, 1.0000, 1.0000, 1.0000, 1.0000,\n\u001b[0m\u001b[1;32m      3\u001b[0m          \u001b[0;36m1.0000\u001b[0m\u001b[0;34m,\u001b[0m \u001b[0;36m1.0000\u001b[0m\u001b[0;34m,\u001b[0m \u001b[0;36m1.0000\u001b[0m\u001b[0;34m,\u001b[0m \u001b[0;36m1.0000\u001b[0m\u001b[0;34m,\u001b[0m \u001b[0;36m1.0000\u001b[0m\u001b[0;34m,\u001b[0m \u001b[0;36m1.0000\u001b[0m\u001b[0;34m,\u001b[0m \u001b[0;36m1.0000\u001b[0m\u001b[0;34m,\u001b[0m\u001b[0;34m\u001b[0m\u001b[0m\n\u001b[1;32m      4\u001b[0m          \u001b[0;36m1.0000\u001b[0m\u001b[0;34m,\u001b[0m \u001b[0;36m1.0000\u001b[0m\u001b[0;34m,\u001b[0m \u001b[0;36m1.0000\u001b[0m\u001b[0;34m,\u001b[0m \u001b[0;36m1.0000\u001b[0m\u001b[0;34m,\u001b[0m \u001b[0;36m1.0000\u001b[0m\u001b[0;34m,\u001b[0m \u001b[0;36m1.0000\u001b[0m\u001b[0;34m,\u001b[0m \u001b[0;36m1.0000\u001b[0m\u001b[0;34m,\u001b[0m\u001b[0;34m\u001b[0m\u001b[0m\n\u001b[1;32m      5\u001b[0m          \u001b[0;36m1.0000\u001b[0m\u001b[0;34m,\u001b[0m \u001b[0;36m1.0000\u001b[0m\u001b[0;34m,\u001b[0m \u001b[0;36m1.0000\u001b[0m\u001b[0;34m,\u001b[0m \u001b[0;36m1.0000\u001b[0m\u001b[0;34m,\u001b[0m \u001b[0;36m1.0000\u001b[0m\u001b[0;34m,\u001b[0m \u001b[0;36m1.0000\u001b[0m\u001b[0;34m,\u001b[0m \u001b[0;36m1.0000\u001b[0m\u001b[0;34m,\u001b[0m\u001b[0;34m\u001b[0m\u001b[0m\n",
      "\u001b[0;31mNameError\u001b[0m: name 'tensor' is not defined"
     ]
    }
   ],
   "source": [
    "torch.Size([64, 10])\n",
    "tensor([ 1.0000, 1.0000, 1.0000, 1.0000, 1.0000, 1.0000, 1.0000,\n",
    "         1.0000, 1.0000, 1.0000, 1.0000, 1.0000, 1.0000, 1.0000,\n",
    "         1.0000, 1.0000, 1.0000, 1.0000, 1.0000, 1.0000, 1.0000,\n",
    "         1.0000, 1.0000, 1.0000, 1.0000, 1.0000, 1.0000, 1.0000,\n",
    "         1.0000, 1.0000, 1.0000, 1.0000, 1.0000, 1.0000, 1.0000,\n",
    "         1.0000, 1.0000, 1.0000, 1.0000, 1.0000, 1.0000, 1.0000,\n",
    "         1.0000, 1.0000, 1.0000, 1.0000, 1.0000, 1.0000, 1.0000,\n",
    "         1.0000, 1.0000, 1.0000, 1.0000, 1.0000, 1.0000, 1.0000,\n",
    "         1.0000, 1.0000, 1.0000, 1.0000, 1.0000, 1.0000, 1.0000,\n",
    "         1.0000])\n"
   ]
  },
  {
   "cell_type": "markdown",
   "metadata": {},
   "source": [
    "## 通过 PyTorch 构建网络\n",
    "\n",
    "PyTorch 提供了`nn`模块，大大地简化了网络构建过程。我将演示如何构建上述同一个网络，即包含 784 个输入、256 个隐藏单元、10 个输出单元和一个 softmax 输出。"
   ]
  },
  {
   "cell_type": "code",
   "execution_count": 24,
   "metadata": {},
   "outputs": [],
   "source": [
    "from torch import nn"
   ]
  },
  {
   "cell_type": "code",
   "execution_count": 25,
   "metadata": {},
   "outputs": [],
   "source": [
    "class Network(nn.Module):\n",
    "    def __init__(self):\n",
    "        super().__init__()\n",
    "        \n",
    "        # Inputs to hidden layer linear transformation\n",
    "        self.hidden = nn.Linear(784, 256)\n",
    "        # Output layer, 10 units - one for each digit\n",
    "        self.output = nn.Linear(256, 10)\n",
    "        \n",
    "        # Define sigmoid activation and softmax output \n",
    "        self.sigmoid = nn.Sigmoid()\n",
    "        self.softmax = nn.Softmax(dim=1)\n",
    "        \n",
    "    def forward(self, x):\n",
    "        # Pass the input tensor through each of our operations\n",
    "        x = self.hidden(x)\n",
    "        x = self.sigmoid(x)\n",
    "        x = self.output(x)\n",
    "        x = self.softmax(x)\n",
    "        \n",
    "        return x"
   ]
  },
  {
   "cell_type": "markdown",
   "metadata": {},
   "source": [
    "分步讲解。"
   ]
  },
  {
   "cell_type": "code",
   "execution_count": 26,
   "metadata": {},
   "outputs": [
    {
     "ename": "SyntaxError",
     "evalue": "unexpected EOF while parsing (<ipython-input-26-9b3a219bc8af>, line 1)",
     "output_type": "error",
     "traceback": [
      "\u001b[0;36m  File \u001b[0;32m\"<ipython-input-26-9b3a219bc8af>\"\u001b[0;36m, line \u001b[0;32m1\u001b[0m\n\u001b[0;31m    class Network(nn.Module):\u001b[0m\n\u001b[0m                             ^\u001b[0m\n\u001b[0;31mSyntaxError\u001b[0m\u001b[0;31m:\u001b[0m unexpected EOF while parsing\n"
     ]
    }
   ],
   "source": [
    "class Network(nn.Module):"
   ]
  },
  {
   "cell_type": "markdown",
   "metadata": {},
   "source": [
    "先继承 `nn.Module`。与 `super().__init__()` 相结合，创建一个跟踪架构的类，并提供大量有用的方法和属性。注意，在为网络创建类时，必须继承 `nn.Module`。类可以随意命名。"
   ]
  },
  {
   "cell_type": "code",
   "execution_count": 27,
   "metadata": {},
   "outputs": [
    {
     "ename": "NameError",
     "evalue": "name 'self' is not defined",
     "output_type": "error",
     "traceback": [
      "\u001b[0;31m---------------------------------------------------------------------------\u001b[0m",
      "\u001b[0;31mNameError\u001b[0m                                 Traceback (most recent call last)",
      "\u001b[0;32m<ipython-input-27-ec6cd9ee23c4>\u001b[0m in \u001b[0;36m<module>\u001b[0;34m()\u001b[0m\n\u001b[0;32m----> 1\u001b[0;31m \u001b[0mself\u001b[0m\u001b[0;34m.\u001b[0m\u001b[0mhidden\u001b[0m \u001b[0;34m=\u001b[0m \u001b[0mnn\u001b[0m\u001b[0;34m.\u001b[0m\u001b[0mLinear\u001b[0m\u001b[0;34m(\u001b[0m\u001b[0;36m784\u001b[0m\u001b[0;34m,\u001b[0m \u001b[0;36m256\u001b[0m\u001b[0;34m)\u001b[0m\u001b[0;34m\u001b[0m\u001b[0m\n\u001b[0m",
      "\u001b[0;31mNameError\u001b[0m: name 'self' is not defined"
     ]
    }
   ],
   "source": [
    "self.hidden = nn.Linear(784, 256)"
   ]
  },
  {
   "cell_type": "markdown",
   "metadata": {},
   "source": [
    "这行创建一个线性转换模块 $x\\mathbf{W} + b$，其中有 784 个输入和 256 个输出，并赋值给 `self.hidden`。该模块会自动创建权重和偏差张量，供我们在 `forward` 方法中使用。创建网络 (`net`) 后，你可以使用 `net.hidden.weight` 和 `net.hidden.bias` 访问权重和偏差张量。"
   ]
  },
  {
   "cell_type": "code",
   "execution_count": 28,
   "metadata": {},
   "outputs": [
    {
     "ename": "NameError",
     "evalue": "name 'self' is not defined",
     "output_type": "error",
     "traceback": [
      "\u001b[0;31m---------------------------------------------------------------------------\u001b[0m",
      "\u001b[0;31mNameError\u001b[0m                                 Traceback (most recent call last)",
      "\u001b[0;32m<ipython-input-28-b23a703d7d67>\u001b[0m in \u001b[0;36m<module>\u001b[0;34m()\u001b[0m\n\u001b[0;32m----> 1\u001b[0;31m \u001b[0mself\u001b[0m\u001b[0;34m.\u001b[0m\u001b[0moutput\u001b[0m \u001b[0;34m=\u001b[0m \u001b[0mnn\u001b[0m\u001b[0;34m.\u001b[0m\u001b[0mLinear\u001b[0m\u001b[0;34m(\u001b[0m\u001b[0;36m256\u001b[0m\u001b[0;34m,\u001b[0m \u001b[0;36m10\u001b[0m\u001b[0;34m)\u001b[0m\u001b[0;34m\u001b[0m\u001b[0m\n\u001b[0m",
      "\u001b[0;31mNameError\u001b[0m: name 'self' is not defined"
     ]
    }
   ],
   "source": [
    "self.output = nn.Linear(256, 10)"
   ]
  },
  {
   "cell_type": "markdown",
   "metadata": {},
   "source": [
    "同样，这里会创建另一个有 256 个输入和 10 个输出的线性转换。"
   ]
  },
  {
   "cell_type": "code",
   "execution_count": 29,
   "metadata": {},
   "outputs": [
    {
     "ename": "NameError",
     "evalue": "name 'self' is not defined",
     "output_type": "error",
     "traceback": [
      "\u001b[0;31m---------------------------------------------------------------------------\u001b[0m",
      "\u001b[0;31mNameError\u001b[0m                                 Traceback (most recent call last)",
      "\u001b[0;32m<ipython-input-29-8c9a6ad7d09d>\u001b[0m in \u001b[0;36m<module>\u001b[0;34m()\u001b[0m\n\u001b[0;32m----> 1\u001b[0;31m \u001b[0mself\u001b[0m\u001b[0;34m.\u001b[0m\u001b[0msigmoid\u001b[0m \u001b[0;34m=\u001b[0m \u001b[0mnn\u001b[0m\u001b[0;34m.\u001b[0m\u001b[0mSigmoid\u001b[0m\u001b[0;34m(\u001b[0m\u001b[0;34m)\u001b[0m\u001b[0;34m\u001b[0m\u001b[0m\n\u001b[0m\u001b[1;32m      2\u001b[0m \u001b[0mself\u001b[0m\u001b[0;34m.\u001b[0m\u001b[0msoftmax\u001b[0m \u001b[0;34m=\u001b[0m \u001b[0mnn\u001b[0m\u001b[0;34m.\u001b[0m\u001b[0mSoftmax\u001b[0m\u001b[0;34m(\u001b[0m\u001b[0mdim\u001b[0m\u001b[0;34m=\u001b[0m\u001b[0;36m1\u001b[0m\u001b[0;34m)\u001b[0m\u001b[0;34m\u001b[0m\u001b[0m\n",
      "\u001b[0;31mNameError\u001b[0m: name 'self' is not defined"
     ]
    }
   ],
   "source": [
    "self.sigmoid = nn.Sigmoid()\n",
    "self.softmax = nn.Softmax(dim=1)"
   ]
  },
  {
   "cell_type": "markdown",
   "metadata": {},
   "source": [
    "然后，我定义了 S 型激活函数和 softmax 输出的运算。在 `nn.Softmax(dim=1)` 中设置 `dim=1` 会计算各个列的 softmax 值。"
   ]
  },
  {
   "cell_type": "code",
   "execution_count": 30,
   "metadata": {},
   "outputs": [
    {
     "ename": "SyntaxError",
     "evalue": "unexpected EOF while parsing (<ipython-input-30-2fff0d346f2d>, line 1)",
     "output_type": "error",
     "traceback": [
      "\u001b[0;36m  File \u001b[0;32m\"<ipython-input-30-2fff0d346f2d>\"\u001b[0;36m, line \u001b[0;32m1\u001b[0m\n\u001b[0;31m    def forward(self, x):\u001b[0m\n\u001b[0m                         ^\u001b[0m\n\u001b[0;31mSyntaxError\u001b[0m\u001b[0;31m:\u001b[0m unexpected EOF while parsing\n"
     ]
    }
   ],
   "source": [
    "def forward(self, x):"
   ]
  },
  {
   "cell_type": "markdown",
   "metadata": {},
   "source": [
    "用 `nn.Module` 创建的 PyTorch 网络必须定义 `forward` 方法。它会接受一个张量 `x` 并将其传入你在 `__init__` 方法中定义的运算。"
   ]
  },
  {
   "cell_type": "code",
   "execution_count": 31,
   "metadata": {},
   "outputs": [
    {
     "ename": "NameError",
     "evalue": "name 'self' is not defined",
     "output_type": "error",
     "traceback": [
      "\u001b[0;31m---------------------------------------------------------------------------\u001b[0m",
      "\u001b[0;31mNameError\u001b[0m                                 Traceback (most recent call last)",
      "\u001b[0;32m<ipython-input-31-c05c6dda2293>\u001b[0m in \u001b[0;36m<module>\u001b[0;34m()\u001b[0m\n\u001b[0;32m----> 1\u001b[0;31m \u001b[0mx\u001b[0m \u001b[0;34m=\u001b[0m \u001b[0mself\u001b[0m\u001b[0;34m.\u001b[0m\u001b[0mhidden\u001b[0m\u001b[0;34m(\u001b[0m\u001b[0mx\u001b[0m\u001b[0;34m)\u001b[0m\u001b[0;34m\u001b[0m\u001b[0m\n\u001b[0m\u001b[1;32m      2\u001b[0m \u001b[0mx\u001b[0m \u001b[0;34m=\u001b[0m \u001b[0mself\u001b[0m\u001b[0;34m.\u001b[0m\u001b[0msigmoid\u001b[0m\u001b[0;34m(\u001b[0m\u001b[0mx\u001b[0m\u001b[0;34m)\u001b[0m\u001b[0;34m\u001b[0m\u001b[0m\n\u001b[1;32m      3\u001b[0m \u001b[0mx\u001b[0m \u001b[0;34m=\u001b[0m \u001b[0mself\u001b[0m\u001b[0;34m.\u001b[0m\u001b[0moutput\u001b[0m\u001b[0;34m(\u001b[0m\u001b[0mx\u001b[0m\u001b[0;34m)\u001b[0m\u001b[0;34m\u001b[0m\u001b[0m\n\u001b[1;32m      4\u001b[0m \u001b[0mx\u001b[0m \u001b[0;34m=\u001b[0m \u001b[0mself\u001b[0m\u001b[0;34m.\u001b[0m\u001b[0msoftmax\u001b[0m\u001b[0;34m(\u001b[0m\u001b[0mx\u001b[0m\u001b[0;34m)\u001b[0m\u001b[0;34m\u001b[0m\u001b[0m\n",
      "\u001b[0;31mNameError\u001b[0m: name 'self' is not defined"
     ]
    }
   ],
   "source": [
    "x = self.hidden(x)\n",
    "x = self.sigmoid(x)\n",
    "x = self.output(x)\n",
    "x = self.softmax(x)"
   ]
  },
  {
   "cell_type": "markdown",
   "metadata": {},
   "source": [
    "我们将输入张量 `x` 传入重新赋值给 `x` 的每个运算。可以看出输入张量经过隐藏层，然后经过 S 型函数、输出层，最终经过 softmax 函数。.变量可以命名为任何名称，只要运算的输入和输出与你要构建的网络架构匹配即可。你在 `__init__` 方法中的定义顺序不重要，但是需要在 `forward` 方法中正确地设定运算顺序。\n",
    "\n",
    "现在我们可以创建一个 `Network` 对象。"
   ]
  },
  {
   "cell_type": "code",
   "execution_count": 32,
   "metadata": {},
   "outputs": [
    {
     "data": {
      "text/plain": [
       "Network(\n",
       "  (hidden): Linear(in_features=784, out_features=256, bias=True)\n",
       "  (output): Linear(in_features=256, out_features=10, bias=True)\n",
       "  (sigmoid): Sigmoid()\n",
       "  (softmax): Softmax()\n",
       ")"
      ]
     },
     "execution_count": 32,
     "metadata": {},
     "output_type": "execute_result"
    }
   ],
   "source": [
    "# Create the network and look at it's text representation\n",
    "model = Network()\n",
    "model"
   ]
  },
  {
   "cell_type": "code",
   "execution_count": 33,
   "metadata": {},
   "outputs": [
    {
     "ename": "SyntaxError",
     "evalue": "invalid syntax (<ipython-input-33-8c250982faab>, line 2)",
     "output_type": "error",
     "traceback": [
      "\u001b[0;36m  File \u001b[0;32m\"<ipython-input-33-8c250982faab>\"\u001b[0;36m, line \u001b[0;32m2\u001b[0m\n\u001b[0;31m    (hidden):Linear(in_features=784, out_features=256, bias=True)\u001b[0m\n\u001b[0m            ^\u001b[0m\n\u001b[0;31mSyntaxError\u001b[0m\u001b[0;31m:\u001b[0m invalid syntax\n"
     ]
    }
   ],
   "source": [
    "Network(\n",
    "  (hidden):Linear(in_features=784, out_features=256, bias=True)\n",
    "  (output):Linear(in_features=256, out_features=10, bias=True)\n",
    "  (sigmoid):Sigmoid()\n",
    "  (softmax):Softmax()\n",
    ")\n",
    "\n"
   ]
  },
  {
   "cell_type": "markdown",
   "metadata": {},
   "source": [
    "你可以使用 `torch.nn.functional` 模块来更简练清晰地定义网络。这是最常见的网络定义方式，因为很多运算是简单的元素级函数。我们通常将此模块导入为 `F`，即 `import torch.nn.functional as F`。"
   ]
  },
  {
   "cell_type": "code",
   "execution_count": 34,
   "metadata": {},
   "outputs": [],
   "source": [
    "import torch.nn.functional as F\n",
    "\n",
    "class Network(nn.Module):\n",
    "    def __init__(self):\n",
    "        super().__init__()\n",
    "        # Inputs to hidden layer linear transformation\n",
    "        self.hidden = nn.Linear(784, 256)\n",
    "        # Output layer, 10 units - one for each digit\n",
    "        self.output = nn.Linear(256, 10)\n",
    "        \n",
    "    def forward(self, x):\n",
    "        # Hidden layer with sigmoid activation\n",
    "        x = F.sigmoid(self.hidden(x))\n",
    "        # Output layer with softmax activation\n",
    "        x = F.softmax(self.output(x), dim=1)\n",
    "        \n",
    "        return x"
   ]
  },
  {
   "cell_type": "markdown",
   "metadata": {},
   "source": [
    "### 激活函数\n",
    "\n",
    "到目前为止，我们只学习了 softmax 激活函数，但是通常任何函数都可以用作激活函数。但是，要使网络能逼近非线性函数，激活函数必须是非线性函数。下面是一些常见的激活函数示例：Tanh（双曲正切）和 ReLU（修正线性单元）。\n",
    "\n",
    "<img src=\"assets/activation.png\" width=700px>\n",
    "\n",
    "在实践中，ReLU 几乎一直用作隐藏层激活函数。\n",
    "\n",
    "### 构建神经网络\n",
    "\n",
    "<img src=\"assets/mlp_mnist.png\" width=600px>\n",
    "\n",
    "> **练习：**请创建如下网络：输入层有 784 个单元，然后是有 128 个单元的隐藏层和一个 ReLU 激活函数，接着是有 64 个单元的隐藏层和一个 ReLU 激活函数，最终是一个应用 softmax 激活函数的输出层（如上所示）。你可以通过 `nn.ReLU` 模块或 `F.relu` 函数应用 ReLU 激活函数。"
   ]
  },
  {
   "cell_type": "code",
   "execution_count": 35,
   "metadata": {},
   "outputs": [
    {
     "data": {
      "text/plain": [
       "Network(\n",
       "  (fc1): Linear(in_features=784, out_features=128, bias=True)\n",
       "  (fc2): Linear(in_features=128, out_features=64, bias=True)\n",
       "  (fc3): Linear(in_features=64, out_features=10, bias=True)\n",
       ")"
      ]
     },
     "execution_count": 35,
     "metadata": {},
     "output_type": "execute_result"
    }
   ],
   "source": [
    "## Solution\n",
    "\n",
    "class Network(nn.Module):\n",
    "    def __init__(self):\n",
    "        super().__init__()\n",
    "        # Defining the layers, 128, 64, 10 units each\n",
    "        self.fc1 = nn.Linear(784, 128)\n",
    "        self.fc2 = nn.Linear(128, 64)\n",
    "        # Output layer, 10 units - one for each digit\n",
    "        self.fc3 = nn.Linear(64, 10)\n",
    "        \n",
    "    def forward(self, x):\n",
    "        ''' Forward pass through the network, returns the output logits '''\n",
    "        \n",
    "        x = self.fc1(x)\n",
    "        x = F.relu(x)\n",
    "        x = self.fc2(x)\n",
    "        x = F.relu(x)\n",
    "        x = self.fc3(x)\n",
    "        x = F.softmax(x, dim=1)\n",
    "        \n",
    "        return x\n",
    "\n",
    "model = Network()\n",
    "model"
   ]
  },
  {
   "cell_type": "code",
   "execution_count": 36,
   "metadata": {},
   "outputs": [
    {
     "ename": "SyntaxError",
     "evalue": "invalid syntax (<ipython-input-36-64a1ba6af244>, line 2)",
     "output_type": "error",
     "traceback": [
      "\u001b[0;36m  File \u001b[0;32m\"<ipython-input-36-64a1ba6af244>\"\u001b[0;36m, line \u001b[0;32m2\u001b[0m\n\u001b[0;31m    (fc1):Linear(in_features=784, out_features=128, bias=True)\u001b[0m\n\u001b[0m         ^\u001b[0m\n\u001b[0;31mSyntaxError\u001b[0m\u001b[0;31m:\u001b[0m invalid syntax\n"
     ]
    }
   ],
   "source": [
    "Network(\n",
    "  (fc1):Linear(in_features=784, out_features=128, bias=True)\n",
    "  (fc2):Linear(in_features=128, out_features=64, bias=True)\n",
    "  (fc3):Linear(in_features=64, out_features=10, bias=True)\n",
    ")\n",
    "\n"
   ]
  },
  {
   "cell_type": "markdown",
   "metadata": {},
   "source": [
    "### 初始化权重和偏差\n",
    "\n",
    "权重和偏差会自动初始化，但是你可以自定义它们的初始化方式。权重和偏差是附加到所定义层级上的张量，例如，你可以通过 `model.fc1.weight` 获取权重。"
   ]
  },
  {
   "cell_type": "code",
   "execution_count": 37,
   "metadata": {},
   "outputs": [
    {
     "name": "stdout",
     "output_type": "stream",
     "text": [
      "Parameter containing:\n",
      "tensor([[-2.8048e-03,  2.2348e-02, -1.4262e-02,  ...,  2.0821e-02,\n",
      "          3.0620e-02,  6.9381e-03],\n",
      "        [ 3.2186e-02, -2.2092e-02, -2.0475e-03,  ..., -1.7630e-02,\n",
      "          1.7231e-02,  5.1135e-03],\n",
      "        [-9.1539e-03,  3.3536e-02, -2.0106e-02,  ..., -3.4856e-02,\n",
      "          8.0430e-03, -1.3341e-02],\n",
      "        ...,\n",
      "        [ 2.6520e-02, -2.9783e-02,  2.1221e-02,  ...,  3.4953e-02,\n",
      "         -2.5704e-02, -2.2623e-02],\n",
      "        [-1.5342e-02, -1.0670e-02,  5.3483e-03,  ...,  3.5066e-02,\n",
      "          3.3327e-02, -7.6661e-03],\n",
      "        [-2.9372e-03,  5.2105e-03,  3.1003e-02,  ...,  2.0859e-02,\n",
      "         -2.1063e-02,  2.3070e-02]])\n",
      "Parameter containing:\n",
      "tensor(1.00000e-02 *\n",
      "       [-3.2715,  0.1098, -3.5157,  0.3490,  1.8774,  3.0955,  1.7465,\n",
      "        -2.1965, -2.4891, -1.2059,  0.3815,  3.4804, -1.9608, -0.1931,\n",
      "        -0.2382, -0.6812,  2.4218, -3.1912, -0.4739,  2.0564,  1.5709,\n",
      "         0.6754, -2.3489,  2.3783, -2.5187,  0.6192, -1.8964, -1.4585,\n",
      "         0.0452,  2.1477,  0.3734,  0.4282, -2.7086, -1.1269,  3.4226,\n",
      "        -0.8902,  2.1277,  2.6661,  0.4685,  1.4631,  0.7536, -3.3705,\n",
      "        -2.3874,  2.5282,  0.0804, -0.4414,  2.5188,  3.2569, -2.6216,\n",
      "         3.3394, -0.5209,  1.4212, -2.0368,  2.5413, -3.5080, -0.2778,\n",
      "         0.4152,  0.9404,  1.4034, -1.2915, -3.1735,  0.7578, -1.5081,\n",
      "        -1.2175,  2.0442,  3.5549,  2.3605,  2.1301, -3.0208, -2.7893,\n",
      "         2.0346,  1.5605,  3.5117,  0.0416,  2.2727,  2.3493,  2.0727,\n",
      "         1.0950,  2.6574, -2.8509, -0.3909, -0.5270, -0.2451,  2.8195,\n",
      "        -3.5684,  3.0536,  3.1830,  1.2585, -3.4247, -0.1095,  2.6790,\n",
      "        -3.1664,  2.7312,  1.4878, -1.9700, -0.4862,  2.8865, -1.3295,\n",
      "        -0.1440,  0.1095,  1.2155,  1.7088,  0.2424, -2.7893, -0.9196,\n",
      "        -0.4655, -3.3026,  2.4546, -1.0260,  2.9819,  2.5671, -0.8723,\n",
      "         2.9123, -0.8369, -1.6749,  3.5692,  1.1993,  0.8964, -0.4987,\n",
      "         0.7767, -2.5239, -1.2706,  1.2592,  0.8074, -2.5121,  2.7251,\n",
      "         2.0524, -2.0997])\n"
     ]
    }
   ],
   "source": [
    "print(model.fc1.weight)\n",
    "print(model.fc1.bias)"
   ]
  },
  {
   "cell_type": "code",
   "execution_count": 38,
   "metadata": {},
   "outputs": [
    {
     "ename": "SyntaxError",
     "evalue": "invalid syntax (<ipython-input-38-6939c72c95b8>, line 1)",
     "output_type": "error",
     "traceback": [
      "\u001b[0;36m  File \u001b[0;32m\"<ipython-input-38-6939c72c95b8>\"\u001b[0;36m, line \u001b[0;32m1\u001b[0m\n\u001b[0;31m    Parameter containing:\u001b[0m\n\u001b[0m                       ^\u001b[0m\n\u001b[0;31mSyntaxError\u001b[0m\u001b[0;31m:\u001b[0m invalid syntax\n"
     ]
    }
   ],
   "source": [
    "Parameter containing:\n",
    "tensor([[-2.3278e-02, -1.2170e-03, -1.1882e-02, ..., 3.3567e-02,\n",
    "          4.4827e-03, 1.4840e-02],\n",
    "        [ 4.8464e-03, 1.9844e-02, 3.9791e-03, ..., -2.6048e-02,\n",
    "         -3.5558e-02, -2.2386e-02],\n",
    "        [-1.9664e-02, 8.1722e-03, 2.6729e-02, ..., -1.5122e-02,\n",
    "          2.7632e-02, -1.9567e-02],\n",
    "        ...,\n",
    "        [-3.3571e-02, -2.9686e-02, -2.1387e-02, ..., 3.0770e-02,\n",
    "          1.0800e-02, -6.5941e-03],\n",
    "        [ 2.9749e-02, 1.2849e-02, 2.7320e-02, ..., -1.9899e-02,\n",
    "          2.7131e-02, 2.2082e-02],\n",
    "        [ 1.3992e-02, -2.1520e-02, 3.1907e-02, ..., 2.2435e-02,\n",
    "          1.1370e-02, 2.1568e-02]])\n",
    "Parameter containing:\n",
    "tensor(1.00000e-02 *\n",
    "       [-1.3222, 2.4094, -2.1571, 3.2237, 2.5302, -1.1515, 2.6382,\n",
    "        -2.3426, -3.5689, -1.0724, -2.8842, -2.9667, -0.5022, 1.1381,\n",
    "         1.2849, 3.0731, -2.0207, -2.3282, 0.3168, -2.8098, -1.0740,\n",
    "        -1.8273, 1.8692, 2.9404, 0.1783, 0.9391, -0.7085, -1.2522,\n",
    "        -2.7769, 0.0916, -1.4283, -0.3267, -1.6876, -1.8580, -2.8724,\n",
    "        -3.5512, 3.2155, 1.5532, 0.8836, -1.2911, 1.5735, -3.0478,\n",
    "        -1.3089, -2.2117, 1.5162, -0.8055, -1.3307, -2.4267, -1.2665,\n",
    "         0.8666, -2.2325, -0.4797, -0.5448, -0.6612, -0.6022, 2.6399,\n",
    "         1.4673, -1.5417, -2.9492, -2.7507, 0.6157, -0.0681, -0.8171,\n",
    "        -0.3554, -0.8225, 3.3906, 3.3509, -1.4484, 3.5124, -2.6519,\n",
    "         0.9721, -2.5068, -3.4962, 3.4743, 1.1525, -2.7555, -3.1673,\n",
    "         2.2906, 2.5914, 1.5992, -1.2859, -0.5682, 2.1488, -2.0631,\n",
    "         2.6281, -2.4639, 2.2622, 2.3632, -0.1979, 0.7160, 1.7594,\n",
    "         0.0761, -2.8886, -3.5467, 2.7691, 0.8280, -2.2398, -1.4602,\n",
    "        -1.3475, -1.4738, 0.6338, 3.2811, -3.0628, 2.7044, 1.2775,\n",
    "         2.8856, -3.3938, 2.7056, 0.5826, -0.6286, 1.2381, 0.7316,\n",
    "        -2.4725, -1.2958, -3.1543, -0.8584, 0.5517, 2.8176, 0.0947,\n",
    "        -1.6849, -1.4968, 3.1039, 1.7680, 1.1803, -1.4402, 2.5710,\n",
    "        -3.3057, 1.9027])\n"
   ]
  },
  {
   "cell_type": "markdown",
   "metadata": {},
   "source": [
    "要自定义初始化过程，我们需要原地修改这些张量。这些实际上是 autograd *变量*，因此我们需要使用 `model.fc1.weight.data` 获取实际张量。获得张量后，我们可以用 0（对于偏差）或随机正常值填充这些张量。"
   ]
  },
  {
   "cell_type": "code",
   "execution_count": 39,
   "metadata": {},
   "outputs": [
    {
     "data": {
      "text/plain": [
       "tensor([ 0.,  0.,  0.,  0.,  0.,  0.,  0.,  0.,  0.,  0.,  0.,  0.,\n",
       "         0.,  0.,  0.,  0.,  0.,  0.,  0.,  0.,  0.,  0.,  0.,  0.,\n",
       "         0.,  0.,  0.,  0.,  0.,  0.,  0.,  0.,  0.,  0.,  0.,  0.,\n",
       "         0.,  0.,  0.,  0.,  0.,  0.,  0.,  0.,  0.,  0.,  0.,  0.,\n",
       "         0.,  0.,  0.,  0.,  0.,  0.,  0.,  0.,  0.,  0.,  0.,  0.,\n",
       "         0.,  0.,  0.,  0.,  0.,  0.,  0.,  0.,  0.,  0.,  0.,  0.,\n",
       "         0.,  0.,  0.,  0.,  0.,  0.,  0.,  0.,  0.,  0.,  0.,  0.,\n",
       "         0.,  0.,  0.,  0.,  0.,  0.,  0.,  0.,  0.,  0.,  0.,  0.,\n",
       "         0.,  0.,  0.,  0.,  0.,  0.,  0.,  0.,  0.,  0.,  0.,  0.,\n",
       "         0.,  0.,  0.,  0.,  0.,  0.,  0.,  0.,  0.,  0.,  0.,  0.,\n",
       "         0.,  0.,  0.,  0.,  0.,  0.,  0.,  0.])"
      ]
     },
     "execution_count": 39,
     "metadata": {},
     "output_type": "execute_result"
    }
   ],
   "source": [
    "# Set biases to all zeros\n",
    "model.fc1.bias.data.fill_(0)"
   ]
  },
  {
   "cell_type": "code",
   "execution_count": 40,
   "metadata": {},
   "outputs": [
    {
     "ename": "NameError",
     "evalue": "name 'tensor' is not defined",
     "output_type": "error",
     "traceback": [
      "\u001b[0;31m---------------------------------------------------------------------------\u001b[0m",
      "\u001b[0;31mNameError\u001b[0m                                 Traceback (most recent call last)",
      "\u001b[0;32m<ipython-input-40-f7165e341e77>\u001b[0m in \u001b[0;36m<module>\u001b[0;34m()\u001b[0m\n\u001b[0;32m----> 1\u001b[0;31m tensor([ 0., 0., 0., 0., 0., 0., 0., 0., 0., 0., 0., 0.,\n\u001b[0m\u001b[1;32m      2\u001b[0m          \u001b[0;36m0.\u001b[0m\u001b[0;34m,\u001b[0m \u001b[0;36m0.\u001b[0m\u001b[0;34m,\u001b[0m \u001b[0;36m0.\u001b[0m\u001b[0;34m,\u001b[0m \u001b[0;36m0.\u001b[0m\u001b[0;34m,\u001b[0m \u001b[0;36m0.\u001b[0m\u001b[0;34m,\u001b[0m \u001b[0;36m0.\u001b[0m\u001b[0;34m,\u001b[0m \u001b[0;36m0.\u001b[0m\u001b[0;34m,\u001b[0m \u001b[0;36m0.\u001b[0m\u001b[0;34m,\u001b[0m \u001b[0;36m0.\u001b[0m\u001b[0;34m,\u001b[0m \u001b[0;36m0.\u001b[0m\u001b[0;34m,\u001b[0m \u001b[0;36m0.\u001b[0m\u001b[0;34m,\u001b[0m \u001b[0;36m0.\u001b[0m\u001b[0;34m,\u001b[0m\u001b[0;34m\u001b[0m\u001b[0m\n\u001b[1;32m      3\u001b[0m          \u001b[0;36m0.\u001b[0m\u001b[0;34m,\u001b[0m \u001b[0;36m0.\u001b[0m\u001b[0;34m,\u001b[0m \u001b[0;36m0.\u001b[0m\u001b[0;34m,\u001b[0m \u001b[0;36m0.\u001b[0m\u001b[0;34m,\u001b[0m \u001b[0;36m0.\u001b[0m\u001b[0;34m,\u001b[0m \u001b[0;36m0.\u001b[0m\u001b[0;34m,\u001b[0m \u001b[0;36m0.\u001b[0m\u001b[0;34m,\u001b[0m \u001b[0;36m0.\u001b[0m\u001b[0;34m,\u001b[0m \u001b[0;36m0.\u001b[0m\u001b[0;34m,\u001b[0m \u001b[0;36m0.\u001b[0m\u001b[0;34m,\u001b[0m \u001b[0;36m0.\u001b[0m\u001b[0;34m,\u001b[0m \u001b[0;36m0.\u001b[0m\u001b[0;34m,\u001b[0m\u001b[0;34m\u001b[0m\u001b[0m\n\u001b[1;32m      4\u001b[0m          \u001b[0;36m0.\u001b[0m\u001b[0;34m,\u001b[0m \u001b[0;36m0.\u001b[0m\u001b[0;34m,\u001b[0m \u001b[0;36m0.\u001b[0m\u001b[0;34m,\u001b[0m \u001b[0;36m0.\u001b[0m\u001b[0;34m,\u001b[0m \u001b[0;36m0.\u001b[0m\u001b[0;34m,\u001b[0m \u001b[0;36m0.\u001b[0m\u001b[0;34m,\u001b[0m \u001b[0;36m0.\u001b[0m\u001b[0;34m,\u001b[0m \u001b[0;36m0.\u001b[0m\u001b[0;34m,\u001b[0m \u001b[0;36m0.\u001b[0m\u001b[0;34m,\u001b[0m \u001b[0;36m0.\u001b[0m\u001b[0;34m,\u001b[0m \u001b[0;36m0.\u001b[0m\u001b[0;34m,\u001b[0m \u001b[0;36m0.\u001b[0m\u001b[0;34m,\u001b[0m\u001b[0;34m\u001b[0m\u001b[0m\n\u001b[1;32m      5\u001b[0m          \u001b[0;36m0.\u001b[0m\u001b[0;34m,\u001b[0m \u001b[0;36m0.\u001b[0m\u001b[0;34m,\u001b[0m \u001b[0;36m0.\u001b[0m\u001b[0;34m,\u001b[0m \u001b[0;36m0.\u001b[0m\u001b[0;34m,\u001b[0m \u001b[0;36m0.\u001b[0m\u001b[0;34m,\u001b[0m \u001b[0;36m0.\u001b[0m\u001b[0;34m,\u001b[0m \u001b[0;36m0.\u001b[0m\u001b[0;34m,\u001b[0m \u001b[0;36m0.\u001b[0m\u001b[0;34m,\u001b[0m \u001b[0;36m0.\u001b[0m\u001b[0;34m,\u001b[0m \u001b[0;36m0.\u001b[0m\u001b[0;34m,\u001b[0m \u001b[0;36m0.\u001b[0m\u001b[0;34m,\u001b[0m \u001b[0;36m0.\u001b[0m\u001b[0;34m,\u001b[0m\u001b[0;34m\u001b[0m\u001b[0m\n",
      "\u001b[0;31mNameError\u001b[0m: name 'tensor' is not defined"
     ]
    }
   ],
   "source": [
    "tensor([ 0., 0., 0., 0., 0., 0., 0., 0., 0., 0., 0., 0.,\n",
    "         0., 0., 0., 0., 0., 0., 0., 0., 0., 0., 0., 0.,\n",
    "         0., 0., 0., 0., 0., 0., 0., 0., 0., 0., 0., 0.,\n",
    "         0., 0., 0., 0., 0., 0., 0., 0., 0., 0., 0., 0.,\n",
    "         0., 0., 0., 0., 0., 0., 0., 0., 0., 0., 0., 0.,\n",
    "         0., 0., 0., 0., 0., 0., 0., 0., 0., 0., 0., 0.,\n",
    "         0., 0., 0., 0., 0., 0., 0., 0., 0., 0., 0., 0.,\n",
    "         0., 0., 0., 0., 0., 0., 0., 0., 0., 0., 0., 0.,\n",
    "         0., 0., 0., 0., 0., 0., 0., 0., 0., 0., 0., 0.,\n",
    "         0., 0., 0., 0., 0., 0., 0., 0., 0., 0., 0., 0.,\n",
    "         0., 0., 0., 0., 0., 0., 0., 0.])\n",
    "\n",
    "\n"
   ]
  },
  {
   "cell_type": "code",
   "execution_count": 41,
   "metadata": {},
   "outputs": [
    {
     "data": {
      "text/plain": [
       "tensor([[-1.8770e-02, -1.2001e-02,  1.3413e-02,  ..., -5.9584e-03,\n",
       "         -1.4500e-04, -1.1406e-03],\n",
       "        [-9.5593e-03, -6.6819e-03,  1.6761e-03,  ...,  6.2431e-03,\n",
       "         -8.7662e-03,  1.7293e-02],\n",
       "        [-8.6677e-03,  1.1132e-02,  1.2314e-02,  ...,  4.7447e-03,\n",
       "         -1.1332e-02, -1.9156e-03],\n",
       "        ...,\n",
       "        [-9.0170e-03,  1.3495e-02,  1.3370e-02,  ..., -1.2570e-02,\n",
       "          5.4729e-03,  3.7747e-03],\n",
       "        [-1.0744e-02, -4.5757e-03,  7.5890e-03,  ...,  3.5041e-03,\n",
       "          8.2728e-04, -3.8384e-03],\n",
       "        [-1.3261e-02, -2.2920e-03,  2.0372e-03,  ..., -4.6651e-03,\n",
       "         -1.5171e-03, -9.8600e-04]])"
      ]
     },
     "execution_count": 41,
     "metadata": {},
     "output_type": "execute_result"
    }
   ],
   "source": [
    "# sample from random normal with standard dev = 0.01\n",
    "model.fc1.weight.data.normal_(std=0.01)"
   ]
  },
  {
   "cell_type": "code",
   "execution_count": 42,
   "metadata": {},
   "outputs": [
    {
     "ename": "NameError",
     "evalue": "name 'tensor' is not defined",
     "output_type": "error",
     "traceback": [
      "\u001b[0;31m---------------------------------------------------------------------------\u001b[0m",
      "\u001b[0;31mNameError\u001b[0m                                 Traceback (most recent call last)",
      "\u001b[0;32m<ipython-input-42-65e8216b9ac7>\u001b[0m in \u001b[0;36m<module>\u001b[0;34m()\u001b[0m\n\u001b[0;32m----> 1\u001b[0;31m tensor([[ 5.9294e-03, 9.6176e-04, 9.5034e-03, ..., -1.2588e-03,\n\u001b[0m\u001b[1;32m      2\u001b[0m           3.4878e-03, 1.4495e-02],\n\u001b[1;32m      3\u001b[0m         [-9.3127e-04, -1.0287e-02, 3.5423e-03, ..., 1.1155e-02,\n\u001b[1;32m      4\u001b[0m           2.5012e-03, 1.3503e-02],\n\u001b[1;32m      5\u001b[0m         [-1.5078e-02, 8.1119e-03, 5.0678e-03, ..., 2.8613e-03,\n",
      "\u001b[0;31mNameError\u001b[0m: name 'tensor' is not defined"
     ]
    }
   ],
   "source": [
    "tensor([[ 5.9294e-03, 9.6176e-04, 9.5034e-03, ..., -1.2588e-03,\n",
    "          3.4878e-03, 1.4495e-02],\n",
    "        [-9.3127e-04, -1.0287e-02, 3.5423e-03, ..., 1.1155e-02,\n",
    "          2.5012e-03, 1.3503e-02],\n",
    "        [-1.5078e-02, 8.1119e-03, 5.0678e-03, ..., 2.8613e-03,\n",
    "          9.7443e-03, -6.5530e-03],\n",
    "        ...,\n",
    "        [-2.2938e-03, -1.8630e-02, -4.2459e-03, ..., 1.4718e-02,\n",
    "          2.7655e-03, 3.2661e-03],\n",
    "        [-3.0470e-03, 1.2617e-02, -7.9772e-03, ..., -1.4699e-02,\n",
    "         -9.1425e-03, 5.3492e-03],\n",
    "        [ 2.5911e-03, 2.4797e-03, -6.1172e-03, ..., 1.0584e-02,\n",
    "         -1.0307e-02, -3.1901e-03]])\n",
    "\n"
   ]
  },
  {
   "cell_type": "markdown",
   "metadata": {},
   "source": [
    "### 前向传递\n",
    "\n",
    "我们已经创建好网络，看看传入图像后会发生什么。"
   ]
  },
  {
   "cell_type": "code",
   "execution_count": 43,
   "metadata": {},
   "outputs": [
    {
     "data": {
      "image/png": "[encoded data removed]",
      "text/plain": [
       "<matplotlib.figure.Figure at 0x7f3de7d195c0>"
      ]
     },
     "metadata": {
      "image/png": {
       "height": 224,
       "width": 423
      },
      "needs_background": "light"
     },
     "output_type": "display_data"
    }
   ],
   "source": [
    "# Grab some data \n",
    "dataiter = iter(trainloader)\n",
    "images, labels = dataiter.next()\n",
    "\n",
    "# Resize images into a 1D vector, new shape is (batch size, color channels, image pixels) \n",
    "images.resize_(64, 1, 784)\n",
    "# or images.resize_(images.shape[0], 1, 784) to automatically get batch size\n",
    "\n",
    "# Forward pass through the network\n",
    "img_idx = 0\n",
    "ps = model.forward(images[img_idx,:])\n",
    "\n",
    "img = images[img_idx]\n",
    "helper.view_classify(img.view(1, 28, 28), ps)"
   ]
  },
  {
   "cell_type": "markdown",
   "metadata": {},
   "source": [
    "![png](output_28_0.png)\n",
    "\n",
    "\n",
    "是的，我们的网络还不能判断出这个数字。这是因为我们尚未训练它，所有权重都是随机的！\n",
    "\n",
    "### 使用 `nn.Sequential`\n",
    "\n",
    "PyTorch 提供了一种方便的方法来构建这类网络（其中张量按顺序执行各种运算）：`nn.Sequential` ([文档](https://pytorch.org/docs/master/nn.html#torch.nn.Sequential))。使用它来构建等效网络："
   ]
  },
  {
   "cell_type": "code",
   "execution_count": 44,
   "metadata": {},
   "outputs": [
    {
     "name": "stdout",
     "output_type": "stream",
     "text": [
      "Sequential(\n",
      "  (0): Linear(in_features=784, out_features=128, bias=True)\n",
      "  (1): ReLU()\n",
      "  (2): Linear(in_features=128, out_features=64, bias=True)\n",
      "  (3): ReLU()\n",
      "  (4): Linear(in_features=64, out_features=10, bias=True)\n",
      "  (5): Softmax()\n",
      ")\n"
     ]
    },
    {
     "data": {
      "image/png": "[encoded data removed]",
      "text/plain": [
       "<matplotlib.figure.Figure at 0x7f3d8acc4d30>"
      ]
     },
     "metadata": {
      "image/png": {
       "height": 224,
       "width": 423
      },
      "needs_background": "light"
     },
     "output_type": "display_data"
    }
   ],
   "source": [
    "# Hyperparameters for our network\n",
    "input_size = 784\n",
    "hidden_sizes = [128, 64]\n",
    "output_size = 10\n",
    "\n",
    "# Build a feed-forward network\n",
    "model = nn.Sequential(nn.Linear(input_size, hidden_sizes[0]),\n",
    "                      nn.ReLU(),\n",
    "                      nn.Linear(hidden_sizes[0], hidden_sizes[1]),\n",
    "                      nn.ReLU(),\n",
    "                      nn.Linear(hidden_sizes[1], output_size),\n",
    "                      nn.Softmax(dim=1))\n",
    "print(model)\n",
    "\n",
    "# Forward pass through the network and display output\n",
    "images, labels = next(iter(trainloader))\n",
    "images.resize_(images.shape[0], 1, 784)\n",
    "ps = model.forward(images[0,:])\n",
    "helper.view_classify(images[0].view(1, 28, 28), ps)"
   ]
  },
  {
   "cell_type": "code",
   "execution_count": 45,
   "metadata": {},
   "outputs": [
    {
     "ename": "SyntaxError",
     "evalue": "invalid syntax (<ipython-input-45-fd8228d4b9dc>, line 2)",
     "output_type": "error",
     "traceback": [
      "\u001b[0;36m  File \u001b[0;32m\"<ipython-input-45-fd8228d4b9dc>\"\u001b[0;36m, line \u001b[0;32m2\u001b[0m\n\u001b[0;31m    (0):Linear(in_features=784, out_features=128, bias=True)\u001b[0m\n\u001b[0m       ^\u001b[0m\n\u001b[0;31mSyntaxError\u001b[0m\u001b[0;31m:\u001b[0m invalid syntax\n"
     ]
    }
   ],
   "source": [
    "Sequential(\n",
    "  (0):Linear(in_features=784, out_features=128, bias=True)\n",
    "  (1):ReLU()\n",
    "  (2):Linear(in_features=128, out_features=64, bias=True)\n",
    "  (3):ReLU()\n",
    "  (4):Linear(in_features=64, out_features=10, bias=True)\n",
    "  (5):Softmax()\n",
    ")\n",
    "\n"
   ]
  },
  {
   "cell_type": "markdown",
   "metadata": {},
   "source": [
    "![png](output_30_1.png)\n",
    "\n",
    "\n",
    "通过传入相应的索引即可执行运算。例如，如果你想获得第一个线性运算并查看权重，可以使用 `model[0]`。"
   ]
  },
  {
   "cell_type": "code",
   "execution_count": 46,
   "metadata": {},
   "outputs": [
    {
     "name": "stdout",
     "output_type": "stream",
     "text": [
      "Linear(in_features=784, out_features=128, bias=True)\n"
     ]
    },
    {
     "data": {
      "text/plain": [
       "Parameter containing:\n",
       "tensor([[-2.4464e-03,  2.1887e-02,  2.4119e-03,  ...,  6.8428e-03,\n",
       "         -2.5065e-02, -2.5934e-02],\n",
       "        [ 1.6741e-03,  3.4716e-02,  2.1555e-02,  ...,  2.1200e-02,\n",
       "          1.9872e-02, -2.0730e-02],\n",
       "        [-1.8697e-02,  1.1473e-02, -3.3012e-02,  ..., -2.5022e-02,\n",
       "          1.0065e-02,  2.8578e-03],\n",
       "        ...,\n",
       "        [-3.5058e-02, -2.3644e-02, -5.8650e-03,  ..., -2.9325e-02,\n",
       "         -3.3263e-02,  1.3426e-02],\n",
       "        [-1.4251e-02, -2.8002e-03, -2.0669e-02,  ..., -5.9592e-03,\n",
       "          1.2643e-02,  1.9839e-02],\n",
       "        [ 1.3266e-02,  2.9985e-02, -3.2306e-02,  ..., -3.2909e-02,\n",
       "          1.3370e-02,  1.6191e-02]])"
      ]
     },
     "execution_count": 46,
     "metadata": {},
     "output_type": "execute_result"
    }
   ],
   "source": [
    "print(model[0])\n",
    "model[0].weight"
   ]
  },
  {
   "cell_type": "code",
   "execution_count": 47,
   "metadata": {},
   "outputs": [
    {
     "ename": "SyntaxError",
     "evalue": "invalid syntax (<ipython-input-47-2f5062550c90>, line 7)",
     "output_type": "error",
     "traceback": [
      "\u001b[0;36m  File \u001b[0;32m\"<ipython-input-47-2f5062550c90>\"\u001b[0;36m, line \u001b[0;32m7\u001b[0m\n\u001b[0;31m    Parameter containing:\u001b[0m\n\u001b[0m                       ^\u001b[0m\n\u001b[0;31mSyntaxError\u001b[0m\u001b[0;31m:\u001b[0m invalid syntax\n"
     ]
    }
   ],
   "source": [
    "Linear(in_features=784, out_features=128, bias=True)\n",
    "\n",
    "\n",
    "\n",
    "\n",
    "\n",
    "Parameter containing:\n",
    "tensor([[-7.0372e-03, 2.9689e-02, 2.6028e-02, ..., 1.1196e-02,\n",
    "         -2.1928e-02, -3.4886e-02],\n",
    "        [ 1.0624e-04, -1.6610e-02, -2.2891e-02, ..., -6.4412e-03,\n",
    "         -2.5026e-02, 1.0674e-02],\n",
    "        [-2.4707e-02, 1.4146e-02, 2.0084e-02, ..., 1.2227e-02,\n",
    "          2.3441e-02, -9.5175e-03],\n",
    "        ...,\n",
    "        [-2.0119e-02, 7.2614e-03, -1.3481e-02, ..., 8.1745e-03,\n",
    "         -1.3348e-02, -1.1955e-02],\n",
    "        [ 3.2282e-02, 1.8674e-02, -3.0826e-02, ..., 1.7296e-02,\n",
    "         -2.6710e-02, -3.0684e-02],\n",
    "        [ 1.7686e-02, 3.1376e-02, -2.2645e-02, ..., 2.4630e-02,\n",
    "          3.1129e-02, 7.0939e-03]])\n",
    "\n"
   ]
  },
  {
   "cell_type": "markdown",
   "metadata": {},
   "source": [
    "还可以传入 `OrderedDict` 以命名单个层级和运算，而不是使用递增的整数。注意，因为字典键必须是唯一的，所以_每个运算都必须具有不同的名称_。"
   ]
  },
  {
   "cell_type": "code",
   "execution_count": 48,
   "metadata": {},
   "outputs": [
    {
     "data": {
      "text/plain": [
       "Sequential(\n",
       "  (fc1): Linear(in_features=784, out_features=128, bias=True)\n",
       "  (relu1): ReLU()\n",
       "  (fc2): Linear(in_features=128, out_features=64, bias=True)\n",
       "  (relu2): ReLU()\n",
       "  (output): Linear(in_features=64, out_features=10, bias=True)\n",
       "  (softmax): Softmax()\n",
       ")"
      ]
     },
     "execution_count": 48,
     "metadata": {},
     "output_type": "execute_result"
    }
   ],
   "source": [
    "from collections import OrderedDict\n",
    "model = nn.Sequential(OrderedDict([\n",
    "                      ('fc1', nn.Linear(input_size, hidden_sizes[0])),\n",
    "                      ('relu1', nn.ReLU()),\n",
    "                      ('fc2', nn.Linear(hidden_sizes[0], hidden_sizes[1])),\n",
    "                      ('relu2', nn.ReLU()),\n",
    "                      ('output', nn.Linear(hidden_sizes[1], output_size)),\n",
    "                      ('softmax', nn.Softmax(dim=1))]))\n",
    "model"
   ]
  },
  {
   "cell_type": "code",
   "execution_count": 49,
   "metadata": {},
   "outputs": [
    {
     "ename": "SyntaxError",
     "evalue": "invalid syntax (<ipython-input-49-7d011b6610e1>, line 2)",
     "output_type": "error",
     "traceback": [
      "\u001b[0;36m  File \u001b[0;32m\"<ipython-input-49-7d011b6610e1>\"\u001b[0;36m, line \u001b[0;32m2\u001b[0m\n\u001b[0;31m    (fc1):Linear(in_features=784, out_features=128, bias=True)\u001b[0m\n\u001b[0m         ^\u001b[0m\n\u001b[0;31mSyntaxError\u001b[0m\u001b[0;31m:\u001b[0m invalid syntax\n"
     ]
    }
   ],
   "source": [
    "Sequential(\n",
    "  (fc1):Linear(in_features=784, out_features=128, bias=True)\n",
    "  (relu1):ReLU()\n",
    "  (fc2):Linear(in_features=128, out_features=64, bias=True)\n",
    "  (relu2):ReLU()\n",
    "  (output):Linear(in_features=64, out_features=10, bias=True)\n",
    "  (softmax):Softmax()\n",
    ")\n",
    "\n"
   ]
  },
  {
   "cell_type": "markdown",
   "metadata": {},
   "source": [
    "现在你可以通过整数或名称访问层级了"
   ]
  },
  {
   "cell_type": "code",
   "execution_count": 50,
   "metadata": {},
   "outputs": [
    {
     "name": "stdout",
     "output_type": "stream",
     "text": [
      "Linear(in_features=784, out_features=128, bias=True)\n",
      "Linear(in_features=784, out_features=128, bias=True)\n"
     ]
    }
   ],
   "source": [
    "print(model[0])\n",
    "print(model.fc1)"
   ]
  },
  {
   "cell_type": "code",
   "execution_count": 51,
   "metadata": {},
   "outputs": [
    {
     "ename": "NameError",
     "evalue": "name 'Linear' is not defined",
     "output_type": "error",
     "traceback": [
      "\u001b[0;31m---------------------------------------------------------------------------\u001b[0m",
      "\u001b[0;31mNameError\u001b[0m                                 Traceback (most recent call last)",
      "\u001b[0;32m<ipython-input-51-ce3c7d3ed71b>\u001b[0m in \u001b[0;36m<module>\u001b[0;34m()\u001b[0m\n\u001b[0;32m----> 1\u001b[0;31m \u001b[0mLinear\u001b[0m\u001b[0;34m(\u001b[0m\u001b[0min_features\u001b[0m\u001b[0;34m=\u001b[0m\u001b[0;36m784\u001b[0m\u001b[0;34m,\u001b[0m \u001b[0mout_features\u001b[0m\u001b[0;34m=\u001b[0m\u001b[0;36m128\u001b[0m\u001b[0;34m,\u001b[0m \u001b[0mbias\u001b[0m\u001b[0;34m=\u001b[0m\u001b[0;32mTrue\u001b[0m\u001b[0;34m)\u001b[0m\u001b[0;34m\u001b[0m\u001b[0m\n\u001b[0m\u001b[1;32m      2\u001b[0m \u001b[0mLinear\u001b[0m\u001b[0;34m(\u001b[0m\u001b[0min_features\u001b[0m\u001b[0;34m=\u001b[0m\u001b[0;36m784\u001b[0m\u001b[0;34m,\u001b[0m \u001b[0mout_features\u001b[0m\u001b[0;34m=\u001b[0m\u001b[0;36m128\u001b[0m\u001b[0;34m,\u001b[0m \u001b[0mbias\u001b[0m\u001b[0;34m=\u001b[0m\u001b[0;32mTrue\u001b[0m\u001b[0;34m)\u001b[0m\u001b[0;34m\u001b[0m\u001b[0m\n",
      "\u001b[0;31mNameError\u001b[0m: name 'Linear' is not defined"
     ]
    }
   ],
   "source": [
    "Linear(in_features=784, out_features=128, bias=True)\n",
    "Linear(in_features=784, out_features=128, bias=True)\n"
   ]
  },
  {
   "cell_type": "markdown",
   "metadata": {},
   "source": [
    "在下个 notebook 中，我们将学习如何训练神经网络，以便准确预测 MNIST 图像中出现的数字。"
   ]
  },
  {
   "cell_type": "code",
   "execution_count": null,
   "metadata": {},
   "outputs": [],
   "source": []
  },
  {
   "cell_type": "code",
   "execution_count": null,
   "metadata": {},
   "outputs": [],
   "source": []
  }
 ],
 "metadata": {
  "kernelspec": {
   "display_name": "Python 3",
   "language": "python",
   "name": "python3"
  },
  "language_info": {
   "codemirror_mode": {
    "name": "ipython",
    "version": 3
   },
   "file_extension": ".py",
   "mimetype": "text/x-python",
   "name": "python",
   "nbconvert_exporter": "python",
   "pygments_lexer": "ipython3",
   "version": "3.6.3"
  }
 },
 "nbformat": 4,
 "nbformat_minor": 2
}
